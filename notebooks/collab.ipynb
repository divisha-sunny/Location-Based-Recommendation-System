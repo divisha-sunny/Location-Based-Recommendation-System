{
 "cells": [
  {
   "cell_type": "code",
   "execution_count": 57,
   "metadata": {},
   "outputs": [],
   "source": [
    "import numpy as np\n",
    "import pandas as pd\n",
    "import matplotlib.pyplot as plt "
   ]
  },
  {
   "cell_type": "code",
   "execution_count": 58,
   "metadata": {},
   "outputs": [
    {
     "output_type": "execute_result",
     "data": {
      "text/plain": "   userid             timestamp   latitude  longitude   spotid\n0       0  2010-10-19T23:55:27Z  30.235909 -97.795140    22847\n1       0  2010-10-18T22:17:43Z  30.269103 -97.749395   420315\n2       0  2010-10-17T23:42:03Z  30.255731 -97.763386   316637\n3       0  2010-10-17T19:26:05Z  30.263418 -97.757597    16516\n4       0  2010-10-16T18:50:42Z  30.274292 -97.740523  5535878",
      "text/html": "<div>\n<style scoped>\n    .dataframe tbody tr th:only-of-type {\n        vertical-align: middle;\n    }\n\n    .dataframe tbody tr th {\n        vertical-align: top;\n    }\n\n    .dataframe thead th {\n        text-align: right;\n    }\n</style>\n<table border=\"1\" class=\"dataframe\">\n  <thead>\n    <tr style=\"text-align: right;\">\n      <th></th>\n      <th>userid</th>\n      <th>timestamp</th>\n      <th>latitude</th>\n      <th>longitude</th>\n      <th>spotid</th>\n    </tr>\n  </thead>\n  <tbody>\n    <tr>\n      <th>0</th>\n      <td>0</td>\n      <td>2010-10-19T23:55:27Z</td>\n      <td>30.235909</td>\n      <td>-97.795140</td>\n      <td>22847</td>\n    </tr>\n    <tr>\n      <th>1</th>\n      <td>0</td>\n      <td>2010-10-18T22:17:43Z</td>\n      <td>30.269103</td>\n      <td>-97.749395</td>\n      <td>420315</td>\n    </tr>\n    <tr>\n      <th>2</th>\n      <td>0</td>\n      <td>2010-10-17T23:42:03Z</td>\n      <td>30.255731</td>\n      <td>-97.763386</td>\n      <td>316637</td>\n    </tr>\n    <tr>\n      <th>3</th>\n      <td>0</td>\n      <td>2010-10-17T19:26:05Z</td>\n      <td>30.263418</td>\n      <td>-97.757597</td>\n      <td>16516</td>\n    </tr>\n    <tr>\n      <th>4</th>\n      <td>0</td>\n      <td>2010-10-16T18:50:42Z</td>\n      <td>30.274292</td>\n      <td>-97.740523</td>\n      <td>5535878</td>\n    </tr>\n  </tbody>\n</table>\n</div>"
     },
     "metadata": {},
     "execution_count": 58
    }
   ],
   "source": [
    "df_gowalla = pd.read_csv('..\\data\\loc-gowalla_totalCheckins.txt\\Gowalla_totalCheckins.txt', sep='\\t', header=None)\n",
    "df_gowalla.columns = ['userid','timestamp','latitude','longitude','spotid']\n",
    "df_gowalla.head()"
   ]
  },
  {
   "cell_type": "code",
   "execution_count": 59,
   "metadata": {},
   "outputs": [
    {
     "output_type": "execute_result",
     "data": {
      "text/plain": "    userid             timestamp   latitude  longitude  spotid\n10       0  2010-10-12T00:21:28Z  40.643885 -73.782806   23261\n11       0  2010-10-11T20:21:20Z  40.741374 -73.988105   16907\n12       0  2010-10-11T20:20:42Z  40.741388 -73.989455   12973\n13       0  2010-10-11T00:06:30Z  40.724910 -73.994621  341255\n14       0  2010-10-10T22:00:37Z  40.729768 -73.998535  260957",
      "text/html": "<div>\n<style scoped>\n    .dataframe tbody tr th:only-of-type {\n        vertical-align: middle;\n    }\n\n    .dataframe tbody tr th {\n        vertical-align: top;\n    }\n\n    .dataframe thead th {\n        text-align: right;\n    }\n</style>\n<table border=\"1\" class=\"dataframe\">\n  <thead>\n    <tr style=\"text-align: right;\">\n      <th></th>\n      <th>userid</th>\n      <th>timestamp</th>\n      <th>latitude</th>\n      <th>longitude</th>\n      <th>spotid</th>\n    </tr>\n  </thead>\n  <tbody>\n    <tr>\n      <th>10</th>\n      <td>0</td>\n      <td>2010-10-12T00:21:28Z</td>\n      <td>40.643885</td>\n      <td>-73.782806</td>\n      <td>23261</td>\n    </tr>\n    <tr>\n      <th>11</th>\n      <td>0</td>\n      <td>2010-10-11T20:21:20Z</td>\n      <td>40.741374</td>\n      <td>-73.988105</td>\n      <td>16907</td>\n    </tr>\n    <tr>\n      <th>12</th>\n      <td>0</td>\n      <td>2010-10-11T20:20:42Z</td>\n      <td>40.741388</td>\n      <td>-73.989455</td>\n      <td>12973</td>\n    </tr>\n    <tr>\n      <th>13</th>\n      <td>0</td>\n      <td>2010-10-11T00:06:30Z</td>\n      <td>40.724910</td>\n      <td>-73.994621</td>\n      <td>341255</td>\n    </tr>\n    <tr>\n      <th>14</th>\n      <td>0</td>\n      <td>2010-10-10T22:00:37Z</td>\n      <td>40.729768</td>\n      <td>-73.998535</td>\n      <td>260957</td>\n    </tr>\n  </tbody>\n</table>\n</div>"
     },
     "metadata": {},
     "execution_count": 59
    }
   ],
   "source": [
    "lon_min, lat_min, lon_max, lat_max = -74.2589, 40.4774, -73.7004, 40.9176\n",
    "nyc_events = df_gowalla[(df_gowalla['longitude']>lon_min) & \n",
    "           (df_gowalla['longitude']<lon_max) & \n",
    "           (df_gowalla['latitude']>lat_min) & \n",
    "           (df_gowalla['latitude']<lat_max)]\n",
    "nyc_events.head()"
   ]
  },
  {
   "cell_type": "code",
   "execution_count": 60,
   "metadata": {},
   "outputs": [
    {
     "output_type": "execute_result",
     "data": {
      "text/plain": "    spotid                   spotname                      geo-coordinates\n0  1391604      Conference House Park  POINT(-74.2523431778 40.5017589436)\n1  1391611  Almer G. Russell Pavilion  POINT(-74.2542636395 40.5022647413)\n2  3612422           Conference House  POINT(-74.2490418254 40.5000644614)\n3  3612431               Billop House  POINT(-74.2490418254 40.5000644614)\n4  1391499               Biddle House  POINT(-74.2541456223 40.5054829933)",
      "text/html": "<div>\n<style scoped>\n    .dataframe tbody tr th:only-of-type {\n        vertical-align: middle;\n    }\n\n    .dataframe tbody tr th {\n        vertical-align: top;\n    }\n\n    .dataframe thead th {\n        text-align: right;\n    }\n</style>\n<table border=\"1\" class=\"dataframe\">\n  <thead>\n    <tr style=\"text-align: right;\">\n      <th></th>\n      <th>spotid</th>\n      <th>spotname</th>\n      <th>geo-coordinates</th>\n    </tr>\n  </thead>\n  <tbody>\n    <tr>\n      <th>0</th>\n      <td>1391604</td>\n      <td>Conference House Park</td>\n      <td>POINT(-74.2523431778 40.5017589436)</td>\n    </tr>\n    <tr>\n      <th>1</th>\n      <td>1391611</td>\n      <td>Almer G. Russell Pavilion</td>\n      <td>POINT(-74.2542636395 40.5022647413)</td>\n    </tr>\n    <tr>\n      <th>2</th>\n      <td>3612422</td>\n      <td>Conference House</td>\n      <td>POINT(-74.2490418254 40.5000644614)</td>\n    </tr>\n    <tr>\n      <th>3</th>\n      <td>3612431</td>\n      <td>Billop House</td>\n      <td>POINT(-74.2490418254 40.5000644614)</td>\n    </tr>\n    <tr>\n      <th>4</th>\n      <td>1391499</td>\n      <td>Biddle House</td>\n      <td>POINT(-74.2541456223 40.5054829933)</td>\n    </tr>\n  </tbody>\n</table>\n</div>"
     },
     "metadata": {},
     "execution_count": 60
    }
   ],
   "source": [
    "venues = pd.read_csv('..\\data\\spots.txt\\spots.txt', sep='\\t', header=0)\n",
    "venues.head()"
   ]
  },
  {
   "cell_type": "code",
   "execution_count": 61,
   "metadata": {},
   "outputs": [],
   "source": [
    "#UTC to Newyork Time Zone Conversion\n",
    "\n",
    "def parse_datetime(s):\n",
    "    tzone = tz.timezone(\"America/New_York\") #parse_datetime\n",
    "    utc = datetime.strptime(s, '%Y-%m-%dT%H:%M:%SZ')\n",
    "    return tz.utc.localize(utc).astimezone(tzone)\n",
    "\n",
    "nyc_events = pd.DataFrame.merge(nyc_events, venues[['spotid','spotname']], on='spotid', how=\"inner\")\n",
    "nyc_events.head()\n",
    "# saving the dataframe \n",
    "nyc_events.to_csv('..\\\\dataframes\\\\nyc_events_with_name.csv') "
   ]
  },
  {
   "cell_type": "code",
   "execution_count": 62,
   "metadata": {},
   "outputs": [],
   "source": [
    "#movies = pd.read_csv(\"data\\\\movies.csv\",encoding=\"Latin1\")\n",
    "Ratings = pd.read_csv(\"..\\\\data\\\\ratings.csv\")\n",
    "#Tags = pd.read_csv(\"data\\\\tags.csv\",encoding=\"Latin1\")\n"
   ]
  },
  {
   "cell_type": "code",
   "execution_count": 63,
   "metadata": {},
   "outputs": [
    {
     "output_type": "execute_result",
     "data": {
      "text/plain": "count    264505.000000\nmean      11917.340326\nstd       21615.562394\nmin           1.000000\n25%        1260.000000\n50%        2949.000000\n75%        6537.000000\nmax      112852.000000\nName: spotid, dtype: float64"
     },
     "metadata": {},
     "execution_count": 63
    }
   ],
   "source": [
    "Ratings['spotid'].describe()"
   ]
  },
  {
   "cell_type": "code",
   "execution_count": 64,
   "metadata": {},
   "outputs": [
    {
     "output_type": "execute_result",
     "data": {
      "text/plain": "2500"
     },
     "metadata": {},
     "execution_count": 64
    }
   ],
   "source": [
    "Ratings['spotid'].nunique()"
   ]
  },
  {
   "cell_type": "code",
   "execution_count": 65,
   "metadata": {},
   "outputs": [],
   "source": [
    "ratings_map = {}\n",
    "num = 0\n",
    "for i in np.unique(Ratings['spotid']):\n",
    "    ratings_map[i] = num\n",
    "    Ratings['spotid'] = Ratings['spotid'].replace(i,num)\n",
    "    num = num+1"
   ]
  },
  {
   "cell_type": "code",
   "execution_count": 66,
   "metadata": {},
   "outputs": [
    {
     "output_type": "execute_result",
     "data": {
      "text/plain": "count    264505.000000\nmean       1321.221402\nstd         746.922097\nmin           0.000000\n25%         644.000000\n50%        1350.000000\n75%        2011.000000\nmax        2499.000000\nName: spotid, dtype: float64"
     },
     "metadata": {},
     "execution_count": 66
    }
   ],
   "source": [
    "Ratings['spotid'].describe()"
   ]
  },
  {
   "cell_type": "code",
   "execution_count": 67,
   "metadata": {},
   "outputs": [],
   "source": [
    "# saving the dataframe \n",
    "Ratings.to_csv('..\\\\dataframes\\\\Ratings.csv') "
   ]
  },
  {
   "cell_type": "code",
   "execution_count": 68,
   "metadata": {},
   "outputs": [
    {
     "output_type": "execute_result",
     "data": {
      "text/plain": "   userId  spotid  rating_x   timestamp  rating_y  adg_rating\n0   12882       0       4.0  1147195252  4.061321   -0.061321\n1   12882      29       3.5  1147195307  4.061321   -0.561321\n2   12882      40       5.0  1147195343  4.061321    0.938679\n3   12882      42       5.0  1147185499  4.061321    0.938679\n4   12882      76       4.5  1147195239  4.061321    0.438679",
      "text/html": "<div>\n<style scoped>\n    .dataframe tbody tr th:only-of-type {\n        vertical-align: middle;\n    }\n\n    .dataframe tbody tr th {\n        vertical-align: top;\n    }\n\n    .dataframe thead th {\n        text-align: right;\n    }\n</style>\n<table border=\"1\" class=\"dataframe\">\n  <thead>\n    <tr style=\"text-align: right;\">\n      <th></th>\n      <th>userId</th>\n      <th>spotid</th>\n      <th>rating_x</th>\n      <th>timestamp</th>\n      <th>rating_y</th>\n      <th>adg_rating</th>\n    </tr>\n  </thead>\n  <tbody>\n    <tr>\n      <th>0</th>\n      <td>12882</td>\n      <td>0</td>\n      <td>4.0</td>\n      <td>1147195252</td>\n      <td>4.061321</td>\n      <td>-0.061321</td>\n    </tr>\n    <tr>\n      <th>1</th>\n      <td>12882</td>\n      <td>29</td>\n      <td>3.5</td>\n      <td>1147195307</td>\n      <td>4.061321</td>\n      <td>-0.561321</td>\n    </tr>\n    <tr>\n      <th>2</th>\n      <td>12882</td>\n      <td>40</td>\n      <td>5.0</td>\n      <td>1147195343</td>\n      <td>4.061321</td>\n      <td>0.938679</td>\n    </tr>\n    <tr>\n      <th>3</th>\n      <td>12882</td>\n      <td>42</td>\n      <td>5.0</td>\n      <td>1147185499</td>\n      <td>4.061321</td>\n      <td>0.938679</td>\n    </tr>\n    <tr>\n      <th>4</th>\n      <td>12882</td>\n      <td>76</td>\n      <td>4.5</td>\n      <td>1147195239</td>\n      <td>4.061321</td>\n      <td>0.438679</td>\n    </tr>\n  </tbody>\n</table>\n</div>"
     },
     "metadata": {},
     "execution_count": 68
    }
   ],
   "source": [
    "Mean = Ratings.groupby(by=\"userId\",as_index=False)['rating'].mean()\n",
    "Rating_avg = pd.merge(Ratings,Mean,on='userId')\n",
    "Rating_avg['adg_rating']=Rating_avg['rating_x']-Rating_avg['rating_y']\n",
    "Rating_avg.head()"
   ]
  },
  {
   "cell_type": "code",
   "execution_count": 69,
   "metadata": {},
   "outputs": [],
   "source": [
    "# saving the dataframe \n",
    "Rating_avg.to_csv('..\\\\dataframes\\\\Rating_avg.csv') "
   ]
  },
  {
   "cell_type": "code",
   "execution_count": 70,
   "metadata": {},
   "outputs": [
    {
     "output_type": "execute_result",
     "data": {
      "text/plain": "spotid  0     1     2     3     4     5     6     7     8     9     ...  2490  \\\nuserId                                                              ...         \n316      2.5   NaN   NaN   NaN   NaN   NaN   2.0   NaN   2.5   NaN  ...   NaN   \n320      NaN   NaN   NaN   NaN   NaN   NaN   NaN   NaN   NaN   NaN  ...   NaN   \n359      5.0   NaN   NaN   NaN   NaN   5.0   NaN   NaN   4.0   4.0  ...   NaN   \n370      4.5   4.0   NaN   NaN   NaN   5.0   NaN   NaN   NaN   NaN  ...   2.5   \n910      5.0   4.0   3.5   NaN   3.5   3.5   NaN   NaN   NaN   4.0  ...   NaN   \n\nspotid  2491  2492  2493  2494  2495  2496  2497  2498  2499  \nuserId                                                        \n316      NaN   NaN   NaN   NaN   NaN   NaN   NaN   NaN   NaN  \n320      NaN   NaN   NaN   NaN   NaN   NaN   NaN   NaN   NaN  \n359      NaN   NaN   NaN   NaN   NaN   NaN   NaN   NaN   NaN  \n370      3.0   4.5   4.0   NaN   NaN   3.0   4.5   3.5   3.0  \n910      NaN   3.5   NaN   NaN   NaN   NaN   4.5   NaN   NaN  \n\n[5 rows x 2500 columns]",
      "text/html": "<div>\n<style scoped>\n    .dataframe tbody tr th:only-of-type {\n        vertical-align: middle;\n    }\n\n    .dataframe tbody tr th {\n        vertical-align: top;\n    }\n\n    .dataframe thead th {\n        text-align: right;\n    }\n</style>\n<table border=\"1\" class=\"dataframe\">\n  <thead>\n    <tr style=\"text-align: right;\">\n      <th>spotid</th>\n      <th>0</th>\n      <th>1</th>\n      <th>2</th>\n      <th>3</th>\n      <th>4</th>\n      <th>5</th>\n      <th>6</th>\n      <th>7</th>\n      <th>8</th>\n      <th>9</th>\n      <th>...</th>\n      <th>2490</th>\n      <th>2491</th>\n      <th>2492</th>\n      <th>2493</th>\n      <th>2494</th>\n      <th>2495</th>\n      <th>2496</th>\n      <th>2497</th>\n      <th>2498</th>\n      <th>2499</th>\n    </tr>\n    <tr>\n      <th>userId</th>\n      <th></th>\n      <th></th>\n      <th></th>\n      <th></th>\n      <th></th>\n      <th></th>\n      <th></th>\n      <th></th>\n      <th></th>\n      <th></th>\n      <th></th>\n      <th></th>\n      <th></th>\n      <th></th>\n      <th></th>\n      <th></th>\n      <th></th>\n      <th></th>\n      <th></th>\n      <th></th>\n      <th></th>\n    </tr>\n  </thead>\n  <tbody>\n    <tr>\n      <th>316</th>\n      <td>2.5</td>\n      <td>NaN</td>\n      <td>NaN</td>\n      <td>NaN</td>\n      <td>NaN</td>\n      <td>NaN</td>\n      <td>2.0</td>\n      <td>NaN</td>\n      <td>2.5</td>\n      <td>NaN</td>\n      <td>...</td>\n      <td>NaN</td>\n      <td>NaN</td>\n      <td>NaN</td>\n      <td>NaN</td>\n      <td>NaN</td>\n      <td>NaN</td>\n      <td>NaN</td>\n      <td>NaN</td>\n      <td>NaN</td>\n      <td>NaN</td>\n    </tr>\n    <tr>\n      <th>320</th>\n      <td>NaN</td>\n      <td>NaN</td>\n      <td>NaN</td>\n      <td>NaN</td>\n      <td>NaN</td>\n      <td>NaN</td>\n      <td>NaN</td>\n      <td>NaN</td>\n      <td>NaN</td>\n      <td>NaN</td>\n      <td>...</td>\n      <td>NaN</td>\n      <td>NaN</td>\n      <td>NaN</td>\n      <td>NaN</td>\n      <td>NaN</td>\n      <td>NaN</td>\n      <td>NaN</td>\n      <td>NaN</td>\n      <td>NaN</td>\n      <td>NaN</td>\n    </tr>\n    <tr>\n      <th>359</th>\n      <td>5.0</td>\n      <td>NaN</td>\n      <td>NaN</td>\n      <td>NaN</td>\n      <td>NaN</td>\n      <td>5.0</td>\n      <td>NaN</td>\n      <td>NaN</td>\n      <td>4.0</td>\n      <td>4.0</td>\n      <td>...</td>\n      <td>NaN</td>\n      <td>NaN</td>\n      <td>NaN</td>\n      <td>NaN</td>\n      <td>NaN</td>\n      <td>NaN</td>\n      <td>NaN</td>\n      <td>NaN</td>\n      <td>NaN</td>\n      <td>NaN</td>\n    </tr>\n    <tr>\n      <th>370</th>\n      <td>4.5</td>\n      <td>4.0</td>\n      <td>NaN</td>\n      <td>NaN</td>\n      <td>NaN</td>\n      <td>5.0</td>\n      <td>NaN</td>\n      <td>NaN</td>\n      <td>NaN</td>\n      <td>NaN</td>\n      <td>...</td>\n      <td>2.5</td>\n      <td>3.0</td>\n      <td>4.5</td>\n      <td>4.0</td>\n      <td>NaN</td>\n      <td>NaN</td>\n      <td>3.0</td>\n      <td>4.5</td>\n      <td>3.5</td>\n      <td>3.0</td>\n    </tr>\n    <tr>\n      <th>910</th>\n      <td>5.0</td>\n      <td>4.0</td>\n      <td>3.5</td>\n      <td>NaN</td>\n      <td>3.5</td>\n      <td>3.5</td>\n      <td>NaN</td>\n      <td>NaN</td>\n      <td>NaN</td>\n      <td>4.0</td>\n      <td>...</td>\n      <td>NaN</td>\n      <td>NaN</td>\n      <td>3.5</td>\n      <td>NaN</td>\n      <td>NaN</td>\n      <td>NaN</td>\n      <td>NaN</td>\n      <td>4.5</td>\n      <td>NaN</td>\n      <td>NaN</td>\n    </tr>\n  </tbody>\n</table>\n<p>5 rows × 2500 columns</p>\n</div>"
     },
     "metadata": {},
     "execution_count": 70
    }
   ],
   "source": [
    "check = pd.pivot_table(Rating_avg,values='rating_x',index='userId',columns='spotid')\n",
    "check.head()"
   ]
  },
  {
   "cell_type": "code",
   "execution_count": 71,
   "metadata": {},
   "outputs": [],
   "source": [
    "from sklearn.metrics.pairwise import cosine_similarity\n",
    "final=pd.pivot_table(Rating_avg,values='adg_rating',index='userId',columns='spotid')"
   ]
  },
  {
   "cell_type": "code",
   "execution_count": 72,
   "metadata": {},
   "outputs": [
    {
     "output_type": "execute_result",
     "data": {
      "text/plain": "(862, 2500)"
     },
     "metadata": {},
     "execution_count": 72
    }
   ],
   "source": [
    "final.shape"
   ]
  },
  {
   "cell_type": "code",
   "execution_count": 73,
   "metadata": {},
   "outputs": [
    {
     "output_type": "execute_result",
     "data": {
      "text/plain": "spotid      0         1        2     3        4         5         6     7     \\\nuserId                                                                         \n316    -0.829457       NaN      NaN   NaN      NaN       NaN -1.329457   NaN   \n320          NaN       NaN      NaN   NaN      NaN       NaN       NaN   NaN   \n359     1.314526       NaN      NaN   NaN      NaN  1.314526       NaN   NaN   \n370     0.705596  0.205596      NaN   NaN      NaN  1.205596       NaN   NaN   \n910     1.101920  0.101920 -0.39808   NaN -0.39808 -0.398080       NaN   NaN   \n\nspotid      8         9     ...      2490      2491      2492      2493  2494  \\\nuserId                      ...                                                 \n316    -0.829457       NaN  ...       NaN       NaN       NaN       NaN   NaN   \n320          NaN       NaN  ...       NaN       NaN       NaN       NaN   NaN   \n359     0.314526  0.314526  ...       NaN       NaN       NaN       NaN   NaN   \n370          NaN       NaN  ... -1.294404 -0.794404  0.705596  0.205596   NaN   \n910          NaN  0.101920  ...       NaN       NaN -0.398080       NaN   NaN   \n\nspotid  2495      2496      2497      2498      2499  \nuserId                                                \n316      NaN       NaN       NaN       NaN       NaN  \n320      NaN       NaN       NaN       NaN       NaN  \n359      NaN       NaN       NaN       NaN       NaN  \n370      NaN -0.794404  0.705596 -0.294404 -0.794404  \n910      NaN       NaN  0.601920       NaN       NaN  \n\n[5 rows x 2500 columns]",
      "text/html": "<div>\n<style scoped>\n    .dataframe tbody tr th:only-of-type {\n        vertical-align: middle;\n    }\n\n    .dataframe tbody tr th {\n        vertical-align: top;\n    }\n\n    .dataframe thead th {\n        text-align: right;\n    }\n</style>\n<table border=\"1\" class=\"dataframe\">\n  <thead>\n    <tr style=\"text-align: right;\">\n      <th>spotid</th>\n      <th>0</th>\n      <th>1</th>\n      <th>2</th>\n      <th>3</th>\n      <th>4</th>\n      <th>5</th>\n      <th>6</th>\n      <th>7</th>\n      <th>8</th>\n      <th>9</th>\n      <th>...</th>\n      <th>2490</th>\n      <th>2491</th>\n      <th>2492</th>\n      <th>2493</th>\n      <th>2494</th>\n      <th>2495</th>\n      <th>2496</th>\n      <th>2497</th>\n      <th>2498</th>\n      <th>2499</th>\n    </tr>\n    <tr>\n      <th>userId</th>\n      <th></th>\n      <th></th>\n      <th></th>\n      <th></th>\n      <th></th>\n      <th></th>\n      <th></th>\n      <th></th>\n      <th></th>\n      <th></th>\n      <th></th>\n      <th></th>\n      <th></th>\n      <th></th>\n      <th></th>\n      <th></th>\n      <th></th>\n      <th></th>\n      <th></th>\n      <th></th>\n      <th></th>\n    </tr>\n  </thead>\n  <tbody>\n    <tr>\n      <th>316</th>\n      <td>-0.829457</td>\n      <td>NaN</td>\n      <td>NaN</td>\n      <td>NaN</td>\n      <td>NaN</td>\n      <td>NaN</td>\n      <td>-1.329457</td>\n      <td>NaN</td>\n      <td>-0.829457</td>\n      <td>NaN</td>\n      <td>...</td>\n      <td>NaN</td>\n      <td>NaN</td>\n      <td>NaN</td>\n      <td>NaN</td>\n      <td>NaN</td>\n      <td>NaN</td>\n      <td>NaN</td>\n      <td>NaN</td>\n      <td>NaN</td>\n      <td>NaN</td>\n    </tr>\n    <tr>\n      <th>320</th>\n      <td>NaN</td>\n      <td>NaN</td>\n      <td>NaN</td>\n      <td>NaN</td>\n      <td>NaN</td>\n      <td>NaN</td>\n      <td>NaN</td>\n      <td>NaN</td>\n      <td>NaN</td>\n      <td>NaN</td>\n      <td>...</td>\n      <td>NaN</td>\n      <td>NaN</td>\n      <td>NaN</td>\n      <td>NaN</td>\n      <td>NaN</td>\n      <td>NaN</td>\n      <td>NaN</td>\n      <td>NaN</td>\n      <td>NaN</td>\n      <td>NaN</td>\n    </tr>\n    <tr>\n      <th>359</th>\n      <td>1.314526</td>\n      <td>NaN</td>\n      <td>NaN</td>\n      <td>NaN</td>\n      <td>NaN</td>\n      <td>1.314526</td>\n      <td>NaN</td>\n      <td>NaN</td>\n      <td>0.314526</td>\n      <td>0.314526</td>\n      <td>...</td>\n      <td>NaN</td>\n      <td>NaN</td>\n      <td>NaN</td>\n      <td>NaN</td>\n      <td>NaN</td>\n      <td>NaN</td>\n      <td>NaN</td>\n      <td>NaN</td>\n      <td>NaN</td>\n      <td>NaN</td>\n    </tr>\n    <tr>\n      <th>370</th>\n      <td>0.705596</td>\n      <td>0.205596</td>\n      <td>NaN</td>\n      <td>NaN</td>\n      <td>NaN</td>\n      <td>1.205596</td>\n      <td>NaN</td>\n      <td>NaN</td>\n      <td>NaN</td>\n      <td>NaN</td>\n      <td>...</td>\n      <td>-1.294404</td>\n      <td>-0.794404</td>\n      <td>0.705596</td>\n      <td>0.205596</td>\n      <td>NaN</td>\n      <td>NaN</td>\n      <td>-0.794404</td>\n      <td>0.705596</td>\n      <td>-0.294404</td>\n      <td>-0.794404</td>\n    </tr>\n    <tr>\n      <th>910</th>\n      <td>1.101920</td>\n      <td>0.101920</td>\n      <td>-0.39808</td>\n      <td>NaN</td>\n      <td>-0.39808</td>\n      <td>-0.398080</td>\n      <td>NaN</td>\n      <td>NaN</td>\n      <td>NaN</td>\n      <td>0.101920</td>\n      <td>...</td>\n      <td>NaN</td>\n      <td>NaN</td>\n      <td>-0.398080</td>\n      <td>NaN</td>\n      <td>NaN</td>\n      <td>NaN</td>\n      <td>NaN</td>\n      <td>0.601920</td>\n      <td>NaN</td>\n      <td>NaN</td>\n    </tr>\n  </tbody>\n</table>\n<p>5 rows × 2500 columns</p>\n</div>"
     },
     "metadata": {},
     "execution_count": 73
    }
   ],
   "source": [
    "final.head()"
   ]
  },
  {
   "cell_type": "code",
   "execution_count": 74,
   "metadata": {},
   "outputs": [],
   "source": [
    "final_location = final.fillna(final.mean(axis=0))"
   ]
  },
  {
   "cell_type": "code",
   "execution_count": 75,
   "metadata": {},
   "outputs": [
    {
     "output_type": "execute_result",
     "data": {
      "text/plain": "spotid      0         1         2         3         4         5         6     \\\nuserId                                                                         \n316    -0.829457 -0.436518 -0.468109 -0.770223 -0.615331  0.320415 -1.329457   \n320     0.200220 -0.436518 -0.468109 -0.770223 -0.615331  0.320415 -0.203889   \n359     1.314526 -0.436518 -0.468109 -0.770223 -0.615331  1.314526 -0.203889   \n370     0.705596  0.205596 -0.468109 -0.770223 -0.615331  1.205596 -0.203889   \n910     1.101920  0.101920 -0.398080 -0.770223 -0.398080 -0.398080 -0.203889   \n\nspotid      7         8         9     ...      2490      2491      2492  \\\nuserId                                ...                                 \n316    -0.690175 -0.829457 -0.094277  ...  0.105075  0.006629  0.262314   \n320    -0.690175 -0.150642 -0.094277  ...  0.105075  0.006629  0.262314   \n359    -0.690175  0.314526  0.314526  ...  0.105075  0.006629  0.262314   \n370    -0.690175 -0.150642 -0.094277  ... -1.294404 -0.794404  0.705596   \n910    -0.690175 -0.150642  0.101920  ...  0.105075  0.006629 -0.398080   \n\nspotid      2493      2494      2495      2496      2497      2498      2499  \nuserId                                                                        \n316     0.237350  0.429868  0.306567  0.225110  0.234458  0.362468  0.349157  \n320     0.237350  0.429868  0.306567  0.225110  0.234458  0.362468  0.349157  \n359     0.237350  0.429868  0.306567  0.225110  0.234458  0.362468  0.349157  \n370     0.205596  0.429868  0.306567 -0.794404  0.705596 -0.294404 -0.794404  \n910     0.237350  0.429868  0.306567  0.225110  0.601920  0.362468  0.349157  \n\n[5 rows x 2500 columns]",
      "text/html": "<div>\n<style scoped>\n    .dataframe tbody tr th:only-of-type {\n        vertical-align: middle;\n    }\n\n    .dataframe tbody tr th {\n        vertical-align: top;\n    }\n\n    .dataframe thead th {\n        text-align: right;\n    }\n</style>\n<table border=\"1\" class=\"dataframe\">\n  <thead>\n    <tr style=\"text-align: right;\">\n      <th>spotid</th>\n      <th>0</th>\n      <th>1</th>\n      <th>2</th>\n      <th>3</th>\n      <th>4</th>\n      <th>5</th>\n      <th>6</th>\n      <th>7</th>\n      <th>8</th>\n      <th>9</th>\n      <th>...</th>\n      <th>2490</th>\n      <th>2491</th>\n      <th>2492</th>\n      <th>2493</th>\n      <th>2494</th>\n      <th>2495</th>\n      <th>2496</th>\n      <th>2497</th>\n      <th>2498</th>\n      <th>2499</th>\n    </tr>\n    <tr>\n      <th>userId</th>\n      <th></th>\n      <th></th>\n      <th></th>\n      <th></th>\n      <th></th>\n      <th></th>\n      <th></th>\n      <th></th>\n      <th></th>\n      <th></th>\n      <th></th>\n      <th></th>\n      <th></th>\n      <th></th>\n      <th></th>\n      <th></th>\n      <th></th>\n      <th></th>\n      <th></th>\n      <th></th>\n      <th></th>\n    </tr>\n  </thead>\n  <tbody>\n    <tr>\n      <th>316</th>\n      <td>-0.829457</td>\n      <td>-0.436518</td>\n      <td>-0.468109</td>\n      <td>-0.770223</td>\n      <td>-0.615331</td>\n      <td>0.320415</td>\n      <td>-1.329457</td>\n      <td>-0.690175</td>\n      <td>-0.829457</td>\n      <td>-0.094277</td>\n      <td>...</td>\n      <td>0.105075</td>\n      <td>0.006629</td>\n      <td>0.262314</td>\n      <td>0.237350</td>\n      <td>0.429868</td>\n      <td>0.306567</td>\n      <td>0.225110</td>\n      <td>0.234458</td>\n      <td>0.362468</td>\n      <td>0.349157</td>\n    </tr>\n    <tr>\n      <th>320</th>\n      <td>0.200220</td>\n      <td>-0.436518</td>\n      <td>-0.468109</td>\n      <td>-0.770223</td>\n      <td>-0.615331</td>\n      <td>0.320415</td>\n      <td>-0.203889</td>\n      <td>-0.690175</td>\n      <td>-0.150642</td>\n      <td>-0.094277</td>\n      <td>...</td>\n      <td>0.105075</td>\n      <td>0.006629</td>\n      <td>0.262314</td>\n      <td>0.237350</td>\n      <td>0.429868</td>\n      <td>0.306567</td>\n      <td>0.225110</td>\n      <td>0.234458</td>\n      <td>0.362468</td>\n      <td>0.349157</td>\n    </tr>\n    <tr>\n      <th>359</th>\n      <td>1.314526</td>\n      <td>-0.436518</td>\n      <td>-0.468109</td>\n      <td>-0.770223</td>\n      <td>-0.615331</td>\n      <td>1.314526</td>\n      <td>-0.203889</td>\n      <td>-0.690175</td>\n      <td>0.314526</td>\n      <td>0.314526</td>\n      <td>...</td>\n      <td>0.105075</td>\n      <td>0.006629</td>\n      <td>0.262314</td>\n      <td>0.237350</td>\n      <td>0.429868</td>\n      <td>0.306567</td>\n      <td>0.225110</td>\n      <td>0.234458</td>\n      <td>0.362468</td>\n      <td>0.349157</td>\n    </tr>\n    <tr>\n      <th>370</th>\n      <td>0.705596</td>\n      <td>0.205596</td>\n      <td>-0.468109</td>\n      <td>-0.770223</td>\n      <td>-0.615331</td>\n      <td>1.205596</td>\n      <td>-0.203889</td>\n      <td>-0.690175</td>\n      <td>-0.150642</td>\n      <td>-0.094277</td>\n      <td>...</td>\n      <td>-1.294404</td>\n      <td>-0.794404</td>\n      <td>0.705596</td>\n      <td>0.205596</td>\n      <td>0.429868</td>\n      <td>0.306567</td>\n      <td>-0.794404</td>\n      <td>0.705596</td>\n      <td>-0.294404</td>\n      <td>-0.794404</td>\n    </tr>\n    <tr>\n      <th>910</th>\n      <td>1.101920</td>\n      <td>0.101920</td>\n      <td>-0.398080</td>\n      <td>-0.770223</td>\n      <td>-0.398080</td>\n      <td>-0.398080</td>\n      <td>-0.203889</td>\n      <td>-0.690175</td>\n      <td>-0.150642</td>\n      <td>0.101920</td>\n      <td>...</td>\n      <td>0.105075</td>\n      <td>0.006629</td>\n      <td>-0.398080</td>\n      <td>0.237350</td>\n      <td>0.429868</td>\n      <td>0.306567</td>\n      <td>0.225110</td>\n      <td>0.601920</td>\n      <td>0.362468</td>\n      <td>0.349157</td>\n    </tr>\n  </tbody>\n</table>\n<p>5 rows × 2500 columns</p>\n</div>"
     },
     "metadata": {},
     "execution_count": 75
    }
   ],
   "source": [
    "final_location.head()"
   ]
  },
  {
   "cell_type": "code",
   "execution_count": 76,
   "metadata": {},
   "outputs": [],
   "source": [
    "final_user = final.apply(lambda row: row.fillna(row.mean()), axis=1)"
   ]
  },
  {
   "cell_type": "code",
   "execution_count": 77,
   "metadata": {},
   "outputs": [
    {
     "output_type": "execute_result",
     "data": {
      "text/plain": "spotid          0             1             2             3             4     \\\nuserId                                                                         \n316    -8.294574e-01 -1.445872e-16 -1.445872e-16 -1.445872e-16 -1.445872e-16   \n320    -5.013910e-17 -5.013910e-17 -5.013910e-17 -5.013910e-17 -5.013910e-17   \n359     1.314526e+00  9.809414e-17  9.809414e-17  9.809414e-17  9.809414e-17   \n370     7.055961e-01  2.055961e-01 -1.728814e-16 -1.728814e-16 -1.728814e-16   \n910     1.101920e+00  1.019202e-01 -3.980798e-01 -1.994138e-16 -3.980798e-01   \n\nspotid          5             6             7             8             9     \\\nuserId                                                                         \n316    -1.445872e-16 -1.329457e+00 -1.445872e-16 -8.294574e-01 -1.445872e-16   \n320    -5.013910e-17 -5.013910e-17 -5.013910e-17 -5.013910e-17 -5.013910e-17   \n359     1.314526e+00  9.809414e-17  9.809414e-17  3.145258e-01  3.145258e-01   \n370     1.205596e+00 -1.728814e-16 -1.728814e-16 -1.728814e-16 -1.728814e-16   \n910    -3.980798e-01 -1.994138e-16 -1.994138e-16 -1.994138e-16  1.019202e-01   \n\nspotid  ...          2490          2491          2492          2493  \\\nuserId  ...                                                           \n316     ... -1.445872e-16 -1.445872e-16 -1.445872e-16 -1.445872e-16   \n320     ... -5.013910e-17 -5.013910e-17 -5.013910e-17 -5.013910e-17   \n359     ...  9.809414e-17  9.809414e-17  9.809414e-17  9.809414e-17   \n370     ... -1.294404e+00 -7.944039e-01  7.055961e-01  2.055961e-01   \n910     ... -1.994138e-16 -1.994138e-16 -3.980798e-01 -1.994138e-16   \n\nspotid          2494          2495          2496          2497          2498  \\\nuserId                                                                         \n316    -1.445872e-16 -1.445872e-16 -1.445872e-16 -1.445872e-16 -1.445872e-16   \n320    -5.013910e-17 -5.013910e-17 -5.013910e-17 -5.013910e-17 -5.013910e-17   \n359     9.809414e-17  9.809414e-17  9.809414e-17  9.809414e-17  9.809414e-17   \n370    -1.728814e-16 -1.728814e-16 -7.944039e-01  7.055961e-01 -2.944039e-01   \n910    -1.994138e-16 -1.994138e-16 -1.994138e-16  6.019202e-01 -1.994138e-16   \n\nspotid          2499  \nuserId                \n316    -1.445872e-16  \n320    -5.013910e-17  \n359     9.809414e-17  \n370    -7.944039e-01  \n910    -1.994138e-16  \n\n[5 rows x 2500 columns]",
      "text/html": "<div>\n<style scoped>\n    .dataframe tbody tr th:only-of-type {\n        vertical-align: middle;\n    }\n\n    .dataframe tbody tr th {\n        vertical-align: top;\n    }\n\n    .dataframe thead th {\n        text-align: right;\n    }\n</style>\n<table border=\"1\" class=\"dataframe\">\n  <thead>\n    <tr style=\"text-align: right;\">\n      <th>spotid</th>\n      <th>0</th>\n      <th>1</th>\n      <th>2</th>\n      <th>3</th>\n      <th>4</th>\n      <th>5</th>\n      <th>6</th>\n      <th>7</th>\n      <th>8</th>\n      <th>9</th>\n      <th>...</th>\n      <th>2490</th>\n      <th>2491</th>\n      <th>2492</th>\n      <th>2493</th>\n      <th>2494</th>\n      <th>2495</th>\n      <th>2496</th>\n      <th>2497</th>\n      <th>2498</th>\n      <th>2499</th>\n    </tr>\n    <tr>\n      <th>userId</th>\n      <th></th>\n      <th></th>\n      <th></th>\n      <th></th>\n      <th></th>\n      <th></th>\n      <th></th>\n      <th></th>\n      <th></th>\n      <th></th>\n      <th></th>\n      <th></th>\n      <th></th>\n      <th></th>\n      <th></th>\n      <th></th>\n      <th></th>\n      <th></th>\n      <th></th>\n      <th></th>\n      <th></th>\n    </tr>\n  </thead>\n  <tbody>\n    <tr>\n      <th>316</th>\n      <td>-8.294574e-01</td>\n      <td>-1.445872e-16</td>\n      <td>-1.445872e-16</td>\n      <td>-1.445872e-16</td>\n      <td>-1.445872e-16</td>\n      <td>-1.445872e-16</td>\n      <td>-1.329457e+00</td>\n      <td>-1.445872e-16</td>\n      <td>-8.294574e-01</td>\n      <td>-1.445872e-16</td>\n      <td>...</td>\n      <td>-1.445872e-16</td>\n      <td>-1.445872e-16</td>\n      <td>-1.445872e-16</td>\n      <td>-1.445872e-16</td>\n      <td>-1.445872e-16</td>\n      <td>-1.445872e-16</td>\n      <td>-1.445872e-16</td>\n      <td>-1.445872e-16</td>\n      <td>-1.445872e-16</td>\n      <td>-1.445872e-16</td>\n    </tr>\n    <tr>\n      <th>320</th>\n      <td>-5.013910e-17</td>\n      <td>-5.013910e-17</td>\n      <td>-5.013910e-17</td>\n      <td>-5.013910e-17</td>\n      <td>-5.013910e-17</td>\n      <td>-5.013910e-17</td>\n      <td>-5.013910e-17</td>\n      <td>-5.013910e-17</td>\n      <td>-5.013910e-17</td>\n      <td>-5.013910e-17</td>\n      <td>...</td>\n      <td>-5.013910e-17</td>\n      <td>-5.013910e-17</td>\n      <td>-5.013910e-17</td>\n      <td>-5.013910e-17</td>\n      <td>-5.013910e-17</td>\n      <td>-5.013910e-17</td>\n      <td>-5.013910e-17</td>\n      <td>-5.013910e-17</td>\n      <td>-5.013910e-17</td>\n      <td>-5.013910e-17</td>\n    </tr>\n    <tr>\n      <th>359</th>\n      <td>1.314526e+00</td>\n      <td>9.809414e-17</td>\n      <td>9.809414e-17</td>\n      <td>9.809414e-17</td>\n      <td>9.809414e-17</td>\n      <td>1.314526e+00</td>\n      <td>9.809414e-17</td>\n      <td>9.809414e-17</td>\n      <td>3.145258e-01</td>\n      <td>3.145258e-01</td>\n      <td>...</td>\n      <td>9.809414e-17</td>\n      <td>9.809414e-17</td>\n      <td>9.809414e-17</td>\n      <td>9.809414e-17</td>\n      <td>9.809414e-17</td>\n      <td>9.809414e-17</td>\n      <td>9.809414e-17</td>\n      <td>9.809414e-17</td>\n      <td>9.809414e-17</td>\n      <td>9.809414e-17</td>\n    </tr>\n    <tr>\n      <th>370</th>\n      <td>7.055961e-01</td>\n      <td>2.055961e-01</td>\n      <td>-1.728814e-16</td>\n      <td>-1.728814e-16</td>\n      <td>-1.728814e-16</td>\n      <td>1.205596e+00</td>\n      <td>-1.728814e-16</td>\n      <td>-1.728814e-16</td>\n      <td>-1.728814e-16</td>\n      <td>-1.728814e-16</td>\n      <td>...</td>\n      <td>-1.294404e+00</td>\n      <td>-7.944039e-01</td>\n      <td>7.055961e-01</td>\n      <td>2.055961e-01</td>\n      <td>-1.728814e-16</td>\n      <td>-1.728814e-16</td>\n      <td>-7.944039e-01</td>\n      <td>7.055961e-01</td>\n      <td>-2.944039e-01</td>\n      <td>-7.944039e-01</td>\n    </tr>\n    <tr>\n      <th>910</th>\n      <td>1.101920e+00</td>\n      <td>1.019202e-01</td>\n      <td>-3.980798e-01</td>\n      <td>-1.994138e-16</td>\n      <td>-3.980798e-01</td>\n      <td>-3.980798e-01</td>\n      <td>-1.994138e-16</td>\n      <td>-1.994138e-16</td>\n      <td>-1.994138e-16</td>\n      <td>1.019202e-01</td>\n      <td>...</td>\n      <td>-1.994138e-16</td>\n      <td>-1.994138e-16</td>\n      <td>-3.980798e-01</td>\n      <td>-1.994138e-16</td>\n      <td>-1.994138e-16</td>\n      <td>-1.994138e-16</td>\n      <td>-1.994138e-16</td>\n      <td>6.019202e-01</td>\n      <td>-1.994138e-16</td>\n      <td>-1.994138e-16</td>\n    </tr>\n  </tbody>\n</table>\n<p>5 rows × 2500 columns</p>\n</div>"
     },
     "metadata": {},
     "execution_count": 77
    }
   ],
   "source": [
    "final_user.head()"
   ]
  },
  {
   "cell_type": "code",
   "execution_count": 78,
   "metadata": {},
   "outputs": [
    {
     "output_type": "execute_result",
     "data": {
      "text/plain": "userId    316       320       359       370       910       975       1015    \\\nuserId                                                                         \n316     0.000000  0.060063  0.072075  0.043266  0.039305  0.045616  0.035341   \n320     0.060063  0.000000  0.063054  0.027315  0.006811  0.075620  0.011910   \n359     0.072075  0.063054  0.000000  0.135836  0.076131  0.036757  0.046418   \n370     0.043266  0.027315  0.135836  0.000000  0.108404  0.071655  0.070893   \n910     0.039305  0.006811  0.076131  0.108404  0.000000  0.021814  0.027339   \n\nuserId    1387          1447      1588    ...    137118    137209    137227  \\\nuserId                                    ...                                 \n316     0.038068 -1.248514e-02  0.050183  ...  0.052632  0.104864  0.011358   \n320     0.042509 -1.810374e-31  0.067389  ...  0.115325  0.065130  0.071996   \n359     0.066544  4.287659e-02  0.109726  ...  0.120191  0.020672  0.032166   \n370    -0.003139  5.223516e-02  0.090241  ...  0.091218  0.049594  0.004344   \n910    -0.032211 -6.301121e-03 -0.007491  ...  0.039464 -0.017620  0.020058   \n\nuserId    137446    137559    137609    137805    138072    138176    138200  \nuserId                                                                        \n316     0.029674  0.092552  0.017876  0.051371  0.077377  0.026924 -0.022727  \n320     0.097554  0.064769 -0.006251  0.077256  0.098845  0.038752  0.056639  \n359     0.039599  0.108502  0.026371  0.075492  0.102698  0.099307  0.003147  \n370     0.040692  0.110434  0.019767 -0.001364  0.052187  0.050997  0.009950  \n910    -0.004581  0.040866 -0.001438 -0.026082  0.073272 -0.012058  0.007610  \n\n[5 rows x 862 columns]",
      "text/html": "<div>\n<style scoped>\n    .dataframe tbody tr th:only-of-type {\n        vertical-align: middle;\n    }\n\n    .dataframe tbody tr th {\n        vertical-align: top;\n    }\n\n    .dataframe thead th {\n        text-align: right;\n    }\n</style>\n<table border=\"1\" class=\"dataframe\">\n  <thead>\n    <tr style=\"text-align: right;\">\n      <th>userId</th>\n      <th>316</th>\n      <th>320</th>\n      <th>359</th>\n      <th>370</th>\n      <th>910</th>\n      <th>975</th>\n      <th>1015</th>\n      <th>1387</th>\n      <th>1447</th>\n      <th>1588</th>\n      <th>...</th>\n      <th>137118</th>\n      <th>137209</th>\n      <th>137227</th>\n      <th>137446</th>\n      <th>137559</th>\n      <th>137609</th>\n      <th>137805</th>\n      <th>138072</th>\n      <th>138176</th>\n      <th>138200</th>\n    </tr>\n    <tr>\n      <th>userId</th>\n      <th></th>\n      <th></th>\n      <th></th>\n      <th></th>\n      <th></th>\n      <th></th>\n      <th></th>\n      <th></th>\n      <th></th>\n      <th></th>\n      <th></th>\n      <th></th>\n      <th></th>\n      <th></th>\n      <th></th>\n      <th></th>\n      <th></th>\n      <th></th>\n      <th></th>\n      <th></th>\n      <th></th>\n    </tr>\n  </thead>\n  <tbody>\n    <tr>\n      <th>316</th>\n      <td>0.000000</td>\n      <td>0.060063</td>\n      <td>0.072075</td>\n      <td>0.043266</td>\n      <td>0.039305</td>\n      <td>0.045616</td>\n      <td>0.035341</td>\n      <td>0.038068</td>\n      <td>-1.248514e-02</td>\n      <td>0.050183</td>\n      <td>...</td>\n      <td>0.052632</td>\n      <td>0.104864</td>\n      <td>0.011358</td>\n      <td>0.029674</td>\n      <td>0.092552</td>\n      <td>0.017876</td>\n      <td>0.051371</td>\n      <td>0.077377</td>\n      <td>0.026924</td>\n      <td>-0.022727</td>\n    </tr>\n    <tr>\n      <th>320</th>\n      <td>0.060063</td>\n      <td>0.000000</td>\n      <td>0.063054</td>\n      <td>0.027315</td>\n      <td>0.006811</td>\n      <td>0.075620</td>\n      <td>0.011910</td>\n      <td>0.042509</td>\n      <td>-1.810374e-31</td>\n      <td>0.067389</td>\n      <td>...</td>\n      <td>0.115325</td>\n      <td>0.065130</td>\n      <td>0.071996</td>\n      <td>0.097554</td>\n      <td>0.064769</td>\n      <td>-0.006251</td>\n      <td>0.077256</td>\n      <td>0.098845</td>\n      <td>0.038752</td>\n      <td>0.056639</td>\n    </tr>\n    <tr>\n      <th>359</th>\n      <td>0.072075</td>\n      <td>0.063054</td>\n      <td>0.000000</td>\n      <td>0.135836</td>\n      <td>0.076131</td>\n      <td>0.036757</td>\n      <td>0.046418</td>\n      <td>0.066544</td>\n      <td>4.287659e-02</td>\n      <td>0.109726</td>\n      <td>...</td>\n      <td>0.120191</td>\n      <td>0.020672</td>\n      <td>0.032166</td>\n      <td>0.039599</td>\n      <td>0.108502</td>\n      <td>0.026371</td>\n      <td>0.075492</td>\n      <td>0.102698</td>\n      <td>0.099307</td>\n      <td>0.003147</td>\n    </tr>\n    <tr>\n      <th>370</th>\n      <td>0.043266</td>\n      <td>0.027315</td>\n      <td>0.135836</td>\n      <td>0.000000</td>\n      <td>0.108404</td>\n      <td>0.071655</td>\n      <td>0.070893</td>\n      <td>-0.003139</td>\n      <td>5.223516e-02</td>\n      <td>0.090241</td>\n      <td>...</td>\n      <td>0.091218</td>\n      <td>0.049594</td>\n      <td>0.004344</td>\n      <td>0.040692</td>\n      <td>0.110434</td>\n      <td>0.019767</td>\n      <td>-0.001364</td>\n      <td>0.052187</td>\n      <td>0.050997</td>\n      <td>0.009950</td>\n    </tr>\n    <tr>\n      <th>910</th>\n      <td>0.039305</td>\n      <td>0.006811</td>\n      <td>0.076131</td>\n      <td>0.108404</td>\n      <td>0.000000</td>\n      <td>0.021814</td>\n      <td>0.027339</td>\n      <td>-0.032211</td>\n      <td>-6.301121e-03</td>\n      <td>-0.007491</td>\n      <td>...</td>\n      <td>0.039464</td>\n      <td>-0.017620</td>\n      <td>0.020058</td>\n      <td>-0.004581</td>\n      <td>0.040866</td>\n      <td>-0.001438</td>\n      <td>-0.026082</td>\n      <td>0.073272</td>\n      <td>-0.012058</td>\n      <td>0.007610</td>\n    </tr>\n  </tbody>\n</table>\n<p>5 rows × 862 columns</p>\n</div>"
     },
     "metadata": {},
     "execution_count": 78
    }
   ],
   "source": [
    "# user similarity on replacing NAN by user avg\n",
    "b = cosine_similarity(final_user)\n",
    "np.fill_diagonal(b, 0 )\n",
    "similarity_with_user = pd.DataFrame(b,index=final_user.index)\n",
    "similarity_with_user.columns=final_user.index\n",
    "similarity_with_user.head()"
   ]
  },
  {
   "cell_type": "code",
   "execution_count": 79,
   "metadata": {},
   "outputs": [
    {
     "output_type": "execute_result",
     "data": {
      "text/plain": "userId    316       320       359       370       910       975       1015    \\\nuserId                                                                         \n316     0.000000  0.921169  0.665659  0.673486  0.694247  0.894969  0.805780   \n320     0.921169  0.000000  0.687225  0.691158  0.699527  0.916020  0.816931   \n359     0.665659  0.687225  0.000000  0.534369  0.523475  0.655225  0.602806   \n370     0.673486  0.691158  0.534369  0.000000  0.547560  0.671810  0.618456   \n910     0.694247  0.699527  0.523475  0.547560  0.000000  0.680701  0.621463   \n\nuserId    1387      1447      1588    ...    137118    137209    137227  \\\nuserId                                ...                                 \n316     0.851492  0.945224  0.705491  ...  0.827564  0.895641  0.879290   \n320     0.874283  0.970234  0.724147  ...  0.861798  0.909376  0.907009   \n359     0.629143  0.705042  0.542504  ...  0.621820  0.654320  0.655839   \n370     0.628825  0.712683  0.548592  ...  0.636688  0.673489  0.651209   \n910     0.634921  0.723574  0.528281  ...  0.638257  0.668887  0.677377   \n\nuserId    137446    137559    137609    137805    138072    138176    138200  \nuserId                                                                        \n316     0.916856  0.912146  0.922262  0.587738  0.671783  0.949138  0.740220  \n320     0.938964  0.929049  0.943265  0.612746  0.695382  0.973853  0.768459  \n359     0.679696  0.683900  0.686193  0.418283  0.489595  0.707370  0.534065  \n370     0.688647  0.689265  0.692595  0.405881  0.497332  0.714011  0.546637  \n910     0.701964  0.701245  0.705041  0.408456  0.509008  0.725896  0.554105  \n\n[5 rows x 862 columns]",
      "text/html": "<div>\n<style scoped>\n    .dataframe tbody tr th:only-of-type {\n        vertical-align: middle;\n    }\n\n    .dataframe tbody tr th {\n        vertical-align: top;\n    }\n\n    .dataframe thead th {\n        text-align: right;\n    }\n</style>\n<table border=\"1\" class=\"dataframe\">\n  <thead>\n    <tr style=\"text-align: right;\">\n      <th>userId</th>\n      <th>316</th>\n      <th>320</th>\n      <th>359</th>\n      <th>370</th>\n      <th>910</th>\n      <th>975</th>\n      <th>1015</th>\n      <th>1387</th>\n      <th>1447</th>\n      <th>1588</th>\n      <th>...</th>\n      <th>137118</th>\n      <th>137209</th>\n      <th>137227</th>\n      <th>137446</th>\n      <th>137559</th>\n      <th>137609</th>\n      <th>137805</th>\n      <th>138072</th>\n      <th>138176</th>\n      <th>138200</th>\n    </tr>\n    <tr>\n      <th>userId</th>\n      <th></th>\n      <th></th>\n      <th></th>\n      <th></th>\n      <th></th>\n      <th></th>\n      <th></th>\n      <th></th>\n      <th></th>\n      <th></th>\n      <th></th>\n      <th></th>\n      <th></th>\n      <th></th>\n      <th></th>\n      <th></th>\n      <th></th>\n      <th></th>\n      <th></th>\n      <th></th>\n      <th></th>\n    </tr>\n  </thead>\n  <tbody>\n    <tr>\n      <th>316</th>\n      <td>0.000000</td>\n      <td>0.921169</td>\n      <td>0.665659</td>\n      <td>0.673486</td>\n      <td>0.694247</td>\n      <td>0.894969</td>\n      <td>0.805780</td>\n      <td>0.851492</td>\n      <td>0.945224</td>\n      <td>0.705491</td>\n      <td>...</td>\n      <td>0.827564</td>\n      <td>0.895641</td>\n      <td>0.879290</td>\n      <td>0.916856</td>\n      <td>0.912146</td>\n      <td>0.922262</td>\n      <td>0.587738</td>\n      <td>0.671783</td>\n      <td>0.949138</td>\n      <td>0.740220</td>\n    </tr>\n    <tr>\n      <th>320</th>\n      <td>0.921169</td>\n      <td>0.000000</td>\n      <td>0.687225</td>\n      <td>0.691158</td>\n      <td>0.699527</td>\n      <td>0.916020</td>\n      <td>0.816931</td>\n      <td>0.874283</td>\n      <td>0.970234</td>\n      <td>0.724147</td>\n      <td>...</td>\n      <td>0.861798</td>\n      <td>0.909376</td>\n      <td>0.907009</td>\n      <td>0.938964</td>\n      <td>0.929049</td>\n      <td>0.943265</td>\n      <td>0.612746</td>\n      <td>0.695382</td>\n      <td>0.973853</td>\n      <td>0.768459</td>\n    </tr>\n    <tr>\n      <th>359</th>\n      <td>0.665659</td>\n      <td>0.687225</td>\n      <td>0.000000</td>\n      <td>0.534369</td>\n      <td>0.523475</td>\n      <td>0.655225</td>\n      <td>0.602806</td>\n      <td>0.629143</td>\n      <td>0.705042</td>\n      <td>0.542504</td>\n      <td>...</td>\n      <td>0.621820</td>\n      <td>0.654320</td>\n      <td>0.655839</td>\n      <td>0.679696</td>\n      <td>0.683900</td>\n      <td>0.686193</td>\n      <td>0.418283</td>\n      <td>0.489595</td>\n      <td>0.707370</td>\n      <td>0.534065</td>\n    </tr>\n    <tr>\n      <th>370</th>\n      <td>0.673486</td>\n      <td>0.691158</td>\n      <td>0.534369</td>\n      <td>0.000000</td>\n      <td>0.547560</td>\n      <td>0.671810</td>\n      <td>0.618456</td>\n      <td>0.628825</td>\n      <td>0.712683</td>\n      <td>0.548592</td>\n      <td>...</td>\n      <td>0.636688</td>\n      <td>0.673489</td>\n      <td>0.651209</td>\n      <td>0.688647</td>\n      <td>0.689265</td>\n      <td>0.692595</td>\n      <td>0.405881</td>\n      <td>0.497332</td>\n      <td>0.714011</td>\n      <td>0.546637</td>\n    </tr>\n    <tr>\n      <th>910</th>\n      <td>0.694247</td>\n      <td>0.699527</td>\n      <td>0.523475</td>\n      <td>0.547560</td>\n      <td>0.000000</td>\n      <td>0.680701</td>\n      <td>0.621463</td>\n      <td>0.634921</td>\n      <td>0.723574</td>\n      <td>0.528281</td>\n      <td>...</td>\n      <td>0.638257</td>\n      <td>0.668887</td>\n      <td>0.677377</td>\n      <td>0.701964</td>\n      <td>0.701245</td>\n      <td>0.705041</td>\n      <td>0.408456</td>\n      <td>0.509008</td>\n      <td>0.725896</td>\n      <td>0.554105</td>\n    </tr>\n  </tbody>\n</table>\n<p>5 rows × 862 columns</p>\n</div>"
     },
     "metadata": {},
     "execution_count": 79
    }
   ],
   "source": [
    "# user similarity on replacing NAN by item(movie) avg\n",
    "\n",
    "cosine = cosine_similarity(final_location)\n",
    "np.fill_diagonal(cosine, 0 )\n",
    "similarity_with_movie = pd.DataFrame(cosine,index=final_location.index)\n",
    "similarity_with_movie.columns=final_user.index\n",
    "similarity_with_movie.head()"
   ]
  },
  {
   "cell_type": "code",
   "execution_count": 80,
   "metadata": {},
   "outputs": [],
   "source": [
    "def find_n_neighbours(df,n):\n",
    "    order = np.argsort(df.values, axis=1)[:, :n]\n",
    "    df = df.apply(lambda x: pd.Series(x.sort_values(ascending=False)\n",
    "           .iloc[:n].index, \n",
    "          index=['top{}'.format(i) for i in range(1, n+1)]), axis=1)\n",
    "    return df"
   ]
  },
  {
   "cell_type": "code",
   "execution_count": 103,
   "metadata": {},
   "outputs": [
    {
     "output_type": "execute_result",
     "data": {
      "text/plain": "          top1    top2    top3   top4    top5    top6    top7    top8    top9  \\\nuserId                                                                          \n316     113673  117918    9050  12882   38187  102668   98880   43829   13215   \n320      12288  113673   28159  79846  134627  112948  120729   97163    2945   \n359     102118   96482  102532  50898    2702   60016   23428  120782   57937   \n370      46645   42245   40768  23428  123707   60016   45120  113645   97195   \n910      87042  131620   67352  40768   31321   48821   26222   63295    5611   \n975      42245   84549   44400  65670  135223   66455  101137   64100  128224   \n1015     98541   89988   52004  11343  125012  115852   18675  108285   29631   \n1387    101952  102668   45811  28340   11337   36727   96370   92409   50898   \n1447    104397  138176   83360  27484   42015   54643   44400  120320   93710   \n1588     52004  127138   64150  82202  111827   90216   10164   45619  124425   \n\n         top10  ...   top21   top22   top23   top24  top25   top26   top27  \\\nuserId          ...                                                          \n316      78501  ...   88608  120782   74472   53834  88928   42245   58265   \n320       4931  ...   39271   94883  127683  101137  54989  134521   80946   \n359      42096  ...  117258    7723  120729   61305  40768  117918   86768   \n370     102118  ...    5611   20530    2702   38159    359   43354  117144   \n910        370  ...  134521   88738   46645  108195  70201   58265   18115   \n975      59269  ...   16581  132295   45015  134521  12569   12649  137118   \n1015     52437  ...   70905   27838   90145   89321  23171    1588  120729   \n1387     38187  ...   93710   44400  138200   67352  76164   52004  111841   \n1447     54989  ...   70905   90216   85824   10514  21860   51255   17278   \n1588     76164  ...   58265   40768   72832   97953  10387    2945   53113   \n\n         top28   top29   top30  \nuserId                          \n316      89527   49830   63902  \n320      10055   64365  106512  \n359     129498  131620   58346  \n370      96482    2988  108195  \n910     114601   23428   17039  \n975      68905   47150  114601  \n1015     42660   22352   23068  \n1387     46645   26172   36665  \n1447    120572   67352   59527  \n1588     88738   27242   79607  \n\n[10 rows x 30 columns]",
      "text/html": "<div>\n<style scoped>\n    .dataframe tbody tr th:only-of-type {\n        vertical-align: middle;\n    }\n\n    .dataframe tbody tr th {\n        vertical-align: top;\n    }\n\n    .dataframe thead th {\n        text-align: right;\n    }\n</style>\n<table border=\"1\" class=\"dataframe\">\n  <thead>\n    <tr style=\"text-align: right;\">\n      <th></th>\n      <th>top1</th>\n      <th>top2</th>\n      <th>top3</th>\n      <th>top4</th>\n      <th>top5</th>\n      <th>top6</th>\n      <th>top7</th>\n      <th>top8</th>\n      <th>top9</th>\n      <th>top10</th>\n      <th>...</th>\n      <th>top21</th>\n      <th>top22</th>\n      <th>top23</th>\n      <th>top24</th>\n      <th>top25</th>\n      <th>top26</th>\n      <th>top27</th>\n      <th>top28</th>\n      <th>top29</th>\n      <th>top30</th>\n    </tr>\n    <tr>\n      <th>userId</th>\n      <th></th>\n      <th></th>\n      <th></th>\n      <th></th>\n      <th></th>\n      <th></th>\n      <th></th>\n      <th></th>\n      <th></th>\n      <th></th>\n      <th></th>\n      <th></th>\n      <th></th>\n      <th></th>\n      <th></th>\n      <th></th>\n      <th></th>\n      <th></th>\n      <th></th>\n      <th></th>\n      <th></th>\n    </tr>\n  </thead>\n  <tbody>\n    <tr>\n      <th>316</th>\n      <td>113673</td>\n      <td>117918</td>\n      <td>9050</td>\n      <td>12882</td>\n      <td>38187</td>\n      <td>102668</td>\n      <td>98880</td>\n      <td>43829</td>\n      <td>13215</td>\n      <td>78501</td>\n      <td>...</td>\n      <td>88608</td>\n      <td>120782</td>\n      <td>74472</td>\n      <td>53834</td>\n      <td>88928</td>\n      <td>42245</td>\n      <td>58265</td>\n      <td>89527</td>\n      <td>49830</td>\n      <td>63902</td>\n    </tr>\n    <tr>\n      <th>320</th>\n      <td>12288</td>\n      <td>113673</td>\n      <td>28159</td>\n      <td>79846</td>\n      <td>134627</td>\n      <td>112948</td>\n      <td>120729</td>\n      <td>97163</td>\n      <td>2945</td>\n      <td>4931</td>\n      <td>...</td>\n      <td>39271</td>\n      <td>94883</td>\n      <td>127683</td>\n      <td>101137</td>\n      <td>54989</td>\n      <td>134521</td>\n      <td>80946</td>\n      <td>10055</td>\n      <td>64365</td>\n      <td>106512</td>\n    </tr>\n    <tr>\n      <th>359</th>\n      <td>102118</td>\n      <td>96482</td>\n      <td>102532</td>\n      <td>50898</td>\n      <td>2702</td>\n      <td>60016</td>\n      <td>23428</td>\n      <td>120782</td>\n      <td>57937</td>\n      <td>42096</td>\n      <td>...</td>\n      <td>117258</td>\n      <td>7723</td>\n      <td>120729</td>\n      <td>61305</td>\n      <td>40768</td>\n      <td>117918</td>\n      <td>86768</td>\n      <td>129498</td>\n      <td>131620</td>\n      <td>58346</td>\n    </tr>\n    <tr>\n      <th>370</th>\n      <td>46645</td>\n      <td>42245</td>\n      <td>40768</td>\n      <td>23428</td>\n      <td>123707</td>\n      <td>60016</td>\n      <td>45120</td>\n      <td>113645</td>\n      <td>97195</td>\n      <td>102118</td>\n      <td>...</td>\n      <td>5611</td>\n      <td>20530</td>\n      <td>2702</td>\n      <td>38159</td>\n      <td>359</td>\n      <td>43354</td>\n      <td>117144</td>\n      <td>96482</td>\n      <td>2988</td>\n      <td>108195</td>\n    </tr>\n    <tr>\n      <th>910</th>\n      <td>87042</td>\n      <td>131620</td>\n      <td>67352</td>\n      <td>40768</td>\n      <td>31321</td>\n      <td>48821</td>\n      <td>26222</td>\n      <td>63295</td>\n      <td>5611</td>\n      <td>370</td>\n      <td>...</td>\n      <td>134521</td>\n      <td>88738</td>\n      <td>46645</td>\n      <td>108195</td>\n      <td>70201</td>\n      <td>58265</td>\n      <td>18115</td>\n      <td>114601</td>\n      <td>23428</td>\n      <td>17039</td>\n    </tr>\n    <tr>\n      <th>975</th>\n      <td>42245</td>\n      <td>84549</td>\n      <td>44400</td>\n      <td>65670</td>\n      <td>135223</td>\n      <td>66455</td>\n      <td>101137</td>\n      <td>64100</td>\n      <td>128224</td>\n      <td>59269</td>\n      <td>...</td>\n      <td>16581</td>\n      <td>132295</td>\n      <td>45015</td>\n      <td>134521</td>\n      <td>12569</td>\n      <td>12649</td>\n      <td>137118</td>\n      <td>68905</td>\n      <td>47150</td>\n      <td>114601</td>\n    </tr>\n    <tr>\n      <th>1015</th>\n      <td>98541</td>\n      <td>89988</td>\n      <td>52004</td>\n      <td>11343</td>\n      <td>125012</td>\n      <td>115852</td>\n      <td>18675</td>\n      <td>108285</td>\n      <td>29631</td>\n      <td>52437</td>\n      <td>...</td>\n      <td>70905</td>\n      <td>27838</td>\n      <td>90145</td>\n      <td>89321</td>\n      <td>23171</td>\n      <td>1588</td>\n      <td>120729</td>\n      <td>42660</td>\n      <td>22352</td>\n      <td>23068</td>\n    </tr>\n    <tr>\n      <th>1387</th>\n      <td>101952</td>\n      <td>102668</td>\n      <td>45811</td>\n      <td>28340</td>\n      <td>11337</td>\n      <td>36727</td>\n      <td>96370</td>\n      <td>92409</td>\n      <td>50898</td>\n      <td>38187</td>\n      <td>...</td>\n      <td>93710</td>\n      <td>44400</td>\n      <td>138200</td>\n      <td>67352</td>\n      <td>76164</td>\n      <td>52004</td>\n      <td>111841</td>\n      <td>46645</td>\n      <td>26172</td>\n      <td>36665</td>\n    </tr>\n    <tr>\n      <th>1447</th>\n      <td>104397</td>\n      <td>138176</td>\n      <td>83360</td>\n      <td>27484</td>\n      <td>42015</td>\n      <td>54643</td>\n      <td>44400</td>\n      <td>120320</td>\n      <td>93710</td>\n      <td>54989</td>\n      <td>...</td>\n      <td>70905</td>\n      <td>90216</td>\n      <td>85824</td>\n      <td>10514</td>\n      <td>21860</td>\n      <td>51255</td>\n      <td>17278</td>\n      <td>120572</td>\n      <td>67352</td>\n      <td>59527</td>\n    </tr>\n    <tr>\n      <th>1588</th>\n      <td>52004</td>\n      <td>127138</td>\n      <td>64150</td>\n      <td>82202</td>\n      <td>111827</td>\n      <td>90216</td>\n      <td>10164</td>\n      <td>45619</td>\n      <td>124425</td>\n      <td>76164</td>\n      <td>...</td>\n      <td>58265</td>\n      <td>40768</td>\n      <td>72832</td>\n      <td>97953</td>\n      <td>10387</td>\n      <td>2945</td>\n      <td>53113</td>\n      <td>88738</td>\n      <td>27242</td>\n      <td>79607</td>\n    </tr>\n  </tbody>\n</table>\n<p>10 rows × 30 columns</p>\n</div>"
     },
     "metadata": {},
     "execution_count": 103
    }
   ],
   "source": [
    "sim_user_30_u = find_n_neighbours(similarity_with_user,30)\n",
    "sim_user_30_u.head(10)"
   ]
  },
  {
   "cell_type": "code",
   "execution_count": 82,
   "metadata": {},
   "outputs": [
    {
     "output_type": "execute_result",
     "data": {
      "text/plain": "          top1    top2    top3   top4    top5    top6    top7    top8    top9  \\\nuserId                                                                          \n316     138176  100240   96936  51460   88932    1447  104732  125012    5268   \n320     138176   96936  121403   1447   51460  125012   88932   42944    5268   \n359     138176    1447    5268  96936  100240   21401   88932   13927  104732   \n370      86309   44194  138176  24802  129869   96936    1447  104529   94333   \n910      96936  107991  138176  27142   51460  125012   88932  100240   72633   \n\n         top10  ...   top21   top22   top23   top24   top25   top26   top27  \\\nuserId          ...                                                           \n316     121403  ...  121987   72633   21401  114335   22338  118304  124981   \n320     104529  ...  121987  102549  118304   86309   94333  124981   93203   \n359      72633  ...   12930  121987  114335  125012   51460  118304   57474   \n370      88932  ...  124981   27142  102549  120308   54643   42944   80585   \n910     129869  ...   36624   51255   94333   42944  121403   80585   61755   \n\n         top28   top29   top30  \nuserId                          \n316      93203   81435   94333  \n320      80585  136037   22338  \n359      27142   80585   22338  \n370      13927   21401  136037  \n910     124981   88455   78908  \n\n[5 rows x 30 columns]",
      "text/html": "<div>\n<style scoped>\n    .dataframe tbody tr th:only-of-type {\n        vertical-align: middle;\n    }\n\n    .dataframe tbody tr th {\n        vertical-align: top;\n    }\n\n    .dataframe thead th {\n        text-align: right;\n    }\n</style>\n<table border=\"1\" class=\"dataframe\">\n  <thead>\n    <tr style=\"text-align: right;\">\n      <th></th>\n      <th>top1</th>\n      <th>top2</th>\n      <th>top3</th>\n      <th>top4</th>\n      <th>top5</th>\n      <th>top6</th>\n      <th>top7</th>\n      <th>top8</th>\n      <th>top9</th>\n      <th>top10</th>\n      <th>...</th>\n      <th>top21</th>\n      <th>top22</th>\n      <th>top23</th>\n      <th>top24</th>\n      <th>top25</th>\n      <th>top26</th>\n      <th>top27</th>\n      <th>top28</th>\n      <th>top29</th>\n      <th>top30</th>\n    </tr>\n    <tr>\n      <th>userId</th>\n      <th></th>\n      <th></th>\n      <th></th>\n      <th></th>\n      <th></th>\n      <th></th>\n      <th></th>\n      <th></th>\n      <th></th>\n      <th></th>\n      <th></th>\n      <th></th>\n      <th></th>\n      <th></th>\n      <th></th>\n      <th></th>\n      <th></th>\n      <th></th>\n      <th></th>\n      <th></th>\n      <th></th>\n    </tr>\n  </thead>\n  <tbody>\n    <tr>\n      <th>316</th>\n      <td>138176</td>\n      <td>100240</td>\n      <td>96936</td>\n      <td>51460</td>\n      <td>88932</td>\n      <td>1447</td>\n      <td>104732</td>\n      <td>125012</td>\n      <td>5268</td>\n      <td>121403</td>\n      <td>...</td>\n      <td>121987</td>\n      <td>72633</td>\n      <td>21401</td>\n      <td>114335</td>\n      <td>22338</td>\n      <td>118304</td>\n      <td>124981</td>\n      <td>93203</td>\n      <td>81435</td>\n      <td>94333</td>\n    </tr>\n    <tr>\n      <th>320</th>\n      <td>138176</td>\n      <td>96936</td>\n      <td>121403</td>\n      <td>1447</td>\n      <td>51460</td>\n      <td>125012</td>\n      <td>88932</td>\n      <td>42944</td>\n      <td>5268</td>\n      <td>104529</td>\n      <td>...</td>\n      <td>121987</td>\n      <td>102549</td>\n      <td>118304</td>\n      <td>86309</td>\n      <td>94333</td>\n      <td>124981</td>\n      <td>93203</td>\n      <td>80585</td>\n      <td>136037</td>\n      <td>22338</td>\n    </tr>\n    <tr>\n      <th>359</th>\n      <td>138176</td>\n      <td>1447</td>\n      <td>5268</td>\n      <td>96936</td>\n      <td>100240</td>\n      <td>21401</td>\n      <td>88932</td>\n      <td>13927</td>\n      <td>104732</td>\n      <td>72633</td>\n      <td>...</td>\n      <td>12930</td>\n      <td>121987</td>\n      <td>114335</td>\n      <td>125012</td>\n      <td>51460</td>\n      <td>118304</td>\n      <td>57474</td>\n      <td>27142</td>\n      <td>80585</td>\n      <td>22338</td>\n    </tr>\n    <tr>\n      <th>370</th>\n      <td>86309</td>\n      <td>44194</td>\n      <td>138176</td>\n      <td>24802</td>\n      <td>129869</td>\n      <td>96936</td>\n      <td>1447</td>\n      <td>104529</td>\n      <td>94333</td>\n      <td>88932</td>\n      <td>...</td>\n      <td>124981</td>\n      <td>27142</td>\n      <td>102549</td>\n      <td>120308</td>\n      <td>54643</td>\n      <td>42944</td>\n      <td>80585</td>\n      <td>13927</td>\n      <td>21401</td>\n      <td>136037</td>\n    </tr>\n    <tr>\n      <th>910</th>\n      <td>96936</td>\n      <td>107991</td>\n      <td>138176</td>\n      <td>27142</td>\n      <td>51460</td>\n      <td>125012</td>\n      <td>88932</td>\n      <td>100240</td>\n      <td>72633</td>\n      <td>129869</td>\n      <td>...</td>\n      <td>36624</td>\n      <td>51255</td>\n      <td>94333</td>\n      <td>42944</td>\n      <td>121403</td>\n      <td>80585</td>\n      <td>61755</td>\n      <td>124981</td>\n      <td>88455</td>\n      <td>78908</td>\n    </tr>\n  </tbody>\n</table>\n<p>5 rows × 30 columns</p>\n</div>"
     },
     "metadata": {},
     "execution_count": 82
    }
   ],
   "source": [
    "# top 30 neighbours for each user\n",
    "sim_user_30_m = find_n_neighbours(similarity_with_movie,30)\n",
    "sim_user_30_m.head()"
   ]
  },
  {
   "cell_type": "code",
   "execution_count": 83,
   "metadata": {
    "tags": [
     "outputPrepend",
     "outputPrepend",
     "outputPrepend",
     "outputPrepend",
     "outputPrepend",
     "outputPrepend",
     "outputPrepend",
     "outputPrepend",
     "outputPrepend",
     "outputPrepend",
     "outputPrepend",
     "outputPrepend"
    ]
   },
   "outputs": [],
   "source": [
    "spot = {}\n",
    "num = 0\n",
    "for i in np.unique(nyc_events['spotid']):\n",
    "    spot[i] = num\n",
    "    nyc_events['spotid'] = nyc_events['spotid'].replace(i,num)\n",
    "    num = num+1"
   ]
  },
  {
   "cell_type": "code",
   "execution_count": 84,
   "metadata": {},
   "outputs": [
    {
     "output_type": "execute_result",
     "data": {
      "text/plain": "   userid             timestamp   latitude  longitude  spotid  \\\n0       0  2010-10-12T00:21:28Z  40.643885 -73.782806     249   \n1       0  2010-10-07T15:27:40Z  40.643885 -73.782806     249   \n2       5  2010-08-16T03:47:20Z  40.643885 -73.782806     249   \n3       8  2010-10-06T20:23:14Z  40.643885 -73.782806     249   \n4      15  2010-10-13T04:10:36Z  40.643885 -73.782806     249   \n\n                            spotname  \n0  JFK John F. Kennedy International  \n1  JFK John F. Kennedy International  \n2  JFK John F. Kennedy International  \n3  JFK John F. Kennedy International  \n4  JFK John F. Kennedy International  ",
      "text/html": "<div>\n<style scoped>\n    .dataframe tbody tr th:only-of-type {\n        vertical-align: middle;\n    }\n\n    .dataframe tbody tr th {\n        vertical-align: top;\n    }\n\n    .dataframe thead th {\n        text-align: right;\n    }\n</style>\n<table border=\"1\" class=\"dataframe\">\n  <thead>\n    <tr style=\"text-align: right;\">\n      <th></th>\n      <th>userid</th>\n      <th>timestamp</th>\n      <th>latitude</th>\n      <th>longitude</th>\n      <th>spotid</th>\n      <th>spotname</th>\n    </tr>\n  </thead>\n  <tbody>\n    <tr>\n      <th>0</th>\n      <td>0</td>\n      <td>2010-10-12T00:21:28Z</td>\n      <td>40.643885</td>\n      <td>-73.782806</td>\n      <td>249</td>\n      <td>JFK John F. Kennedy International</td>\n    </tr>\n    <tr>\n      <th>1</th>\n      <td>0</td>\n      <td>2010-10-07T15:27:40Z</td>\n      <td>40.643885</td>\n      <td>-73.782806</td>\n      <td>249</td>\n      <td>JFK John F. Kennedy International</td>\n    </tr>\n    <tr>\n      <th>2</th>\n      <td>5</td>\n      <td>2010-08-16T03:47:20Z</td>\n      <td>40.643885</td>\n      <td>-73.782806</td>\n      <td>249</td>\n      <td>JFK John F. Kennedy International</td>\n    </tr>\n    <tr>\n      <th>3</th>\n      <td>8</td>\n      <td>2010-10-06T20:23:14Z</td>\n      <td>40.643885</td>\n      <td>-73.782806</td>\n      <td>249</td>\n      <td>JFK John F. Kennedy International</td>\n    </tr>\n    <tr>\n      <th>4</th>\n      <td>15</td>\n      <td>2010-10-13T04:10:36Z</td>\n      <td>40.643885</td>\n      <td>-73.782806</td>\n      <td>249</td>\n      <td>JFK John F. Kennedy International</td>\n    </tr>\n  </tbody>\n</table>\n</div>"
     },
     "metadata": {},
     "execution_count": 84
    }
   ],
   "source": [
    "nyc_events.head()"
   ]
  },
  {
   "cell_type": "code",
   "execution_count": 85,
   "metadata": {},
   "outputs": [
    {
     "output_type": "execute_result",
     "data": {
      "text/plain": "              userid       latitude      longitude         spotid\ncount  112390.000000  112390.000000  112390.000000  112390.000000\nmean    41725.282792      40.739526     -73.983131    5208.571279\nstd     47784.747785       0.044375       0.068852    4852.817609\nmin         0.000000      40.484370     -74.258598       0.000000\n25%      4595.000000      40.722671     -73.998459     933.000000\n50%     24970.000000      40.743496     -73.986991    3690.000000\n75%     66746.000000      40.759771     -73.975262    8672.000000\nmax    196524.000000      40.917585     -73.740295   17290.000000",
      "text/html": "<div>\n<style scoped>\n    .dataframe tbody tr th:only-of-type {\n        vertical-align: middle;\n    }\n\n    .dataframe tbody tr th {\n        vertical-align: top;\n    }\n\n    .dataframe thead th {\n        text-align: right;\n    }\n</style>\n<table border=\"1\" class=\"dataframe\">\n  <thead>\n    <tr style=\"text-align: right;\">\n      <th></th>\n      <th>userid</th>\n      <th>latitude</th>\n      <th>longitude</th>\n      <th>spotid</th>\n    </tr>\n  </thead>\n  <tbody>\n    <tr>\n      <th>count</th>\n      <td>112390.000000</td>\n      <td>112390.000000</td>\n      <td>112390.000000</td>\n      <td>112390.000000</td>\n    </tr>\n    <tr>\n      <th>mean</th>\n      <td>41725.282792</td>\n      <td>40.739526</td>\n      <td>-73.983131</td>\n      <td>5208.571279</td>\n    </tr>\n    <tr>\n      <th>std</th>\n      <td>47784.747785</td>\n      <td>0.044375</td>\n      <td>0.068852</td>\n      <td>4852.817609</td>\n    </tr>\n    <tr>\n      <th>min</th>\n      <td>0.000000</td>\n      <td>40.484370</td>\n      <td>-74.258598</td>\n      <td>0.000000</td>\n    </tr>\n    <tr>\n      <th>25%</th>\n      <td>4595.000000</td>\n      <td>40.722671</td>\n      <td>-73.998459</td>\n      <td>933.000000</td>\n    </tr>\n    <tr>\n      <th>50%</th>\n      <td>24970.000000</td>\n      <td>40.743496</td>\n      <td>-73.986991</td>\n      <td>3690.000000</td>\n    </tr>\n    <tr>\n      <th>75%</th>\n      <td>66746.000000</td>\n      <td>40.759771</td>\n      <td>-73.975262</td>\n      <td>8672.000000</td>\n    </tr>\n    <tr>\n      <th>max</th>\n      <td>196524.000000</td>\n      <td>40.917585</td>\n      <td>-73.740295</td>\n      <td>17290.000000</td>\n    </tr>\n  </tbody>\n</table>\n</div>"
     },
     "metadata": {},
     "execution_count": 85
    }
   ],
   "source": [
    "nyc_events.describe()"
   ]
  },
  {
   "cell_type": "code",
   "execution_count": 86,
   "metadata": {},
   "outputs": [],
   "source": [
    "nyc_events_clean = nyc_events[nyc_events['spotid'] < 2500]"
   ]
  },
  {
   "cell_type": "code",
   "execution_count": 87,
   "metadata": {},
   "outputs": [
    {
     "output_type": "execute_result",
     "data": {
      "text/plain": "(46058, 6)"
     },
     "metadata": {},
     "execution_count": 87
    }
   ],
   "source": [
    "nyc_events_clean.shape"
   ]
  },
  {
   "cell_type": "code",
   "execution_count": 88,
   "metadata": {},
   "outputs": [
    {
     "output_type": "execute_result",
     "data": {
      "text/plain": "      spotid                           spotname\n1653     249  JFK John F. Kennedy International\n1932     172                        Shake Shack\n2102     110                 Flatiron Building \n2245    1630                             Market\n2258     420                          Westville",
      "text/html": "<div>\n<style scoped>\n    .dataframe tbody tr th:only-of-type {\n        vertical-align: middle;\n    }\n\n    .dataframe tbody tr th {\n        vertical-align: top;\n    }\n\n    .dataframe thead th {\n        text-align: right;\n    }\n</style>\n<table border=\"1\" class=\"dataframe\">\n  <thead>\n    <tr style=\"text-align: right;\">\n      <th></th>\n      <th>spotid</th>\n      <th>spotname</th>\n    </tr>\n  </thead>\n  <tbody>\n    <tr>\n      <th>1653</th>\n      <td>249</td>\n      <td>JFK John F. Kennedy International</td>\n    </tr>\n    <tr>\n      <th>1932</th>\n      <td>172</td>\n      <td>Shake Shack</td>\n    </tr>\n    <tr>\n      <th>2102</th>\n      <td>110</td>\n      <td>Flatiron Building</td>\n    </tr>\n    <tr>\n      <th>2245</th>\n      <td>1630</td>\n      <td>Market</td>\n    </tr>\n    <tr>\n      <th>2258</th>\n      <td>420</td>\n      <td>Westville</td>\n    </tr>\n  </tbody>\n</table>\n</div>"
     },
     "metadata": {},
     "execution_count": 88
    }
   ],
   "source": [
    "nyc_events_clean.drop(['userid', 'timestamp','latitude','longitude'], axis=1, inplace = True) \n",
    "nyc_events_clean.drop_duplicates(subset='spotid', keep=\"last\", inplace = True)\n",
    "\n",
    "nyc_events_clean.head()"
   ]
  },
  {
   "cell_type": "code",
   "execution_count": 89,
   "metadata": {},
   "outputs": [],
   "source": [
    "# saving the dataframe \n",
    "nyc_events_clean.to_csv('..\\\\dataframes\\\\nyc_events_clean.csv') "
   ]
  },
  {
   "cell_type": "code",
   "execution_count": 90,
   "metadata": {},
   "outputs": [],
   "source": [
    "def get_similar_locations(user1, user2):\n",
    "    common_locations = Rating_avg[Rating_avg.userId == user1].merge(\n",
    "        Rating_avg[Rating_avg.userId == user2],\n",
    "        on = \"spotid\",\n",
    "        how =\"inner\"\n",
    "    )\n",
    "    return common_locations.merge(nyc_events_clean, on = 'spotid')\n"
   ]
  },
  {
   "cell_type": "code",
   "execution_count": 91,
   "metadata": {},
   "outputs": [
    {
     "output_type": "execute_result",
     "data": {
      "text/plain": "    rating_x_x  rating_x_y                         spotname\n0          5.0         5.0                        Mercadito\n1          5.0         4.5                      Clandestino\n2          5.0         4.0                  Central Parking\n3          4.5         4.0  Tompkins Square Park Playground\n4          1.5         1.0                   Hot Mini Cakes\n5          3.5         3.5                         Scuderia\n6          5.0         3.5                     Peace & Love\n7          3.0         3.5          NYU Psychology Building\n8          4.0         4.0                   NYU Torch Club\n9          1.0         4.0             Park Slope Ale House\n10         4.0         4.0                        Elle Girl\n11         3.5         4.5                        Mars 2112",
      "text/html": "<div>\n<style scoped>\n    .dataframe tbody tr th:only-of-type {\n        vertical-align: middle;\n    }\n\n    .dataframe tbody tr th {\n        vertical-align: top;\n    }\n\n    .dataframe thead th {\n        text-align: right;\n    }\n</style>\n<table border=\"1\" class=\"dataframe\">\n  <thead>\n    <tr style=\"text-align: right;\">\n      <th></th>\n      <th>rating_x_x</th>\n      <th>rating_x_y</th>\n      <th>spotname</th>\n    </tr>\n  </thead>\n  <tbody>\n    <tr>\n      <th>0</th>\n      <td>5.0</td>\n      <td>5.0</td>\n      <td>Mercadito</td>\n    </tr>\n    <tr>\n      <th>1</th>\n      <td>5.0</td>\n      <td>4.5</td>\n      <td>Clandestino</td>\n    </tr>\n    <tr>\n      <th>2</th>\n      <td>5.0</td>\n      <td>4.0</td>\n      <td>Central Parking</td>\n    </tr>\n    <tr>\n      <th>3</th>\n      <td>4.5</td>\n      <td>4.0</td>\n      <td>Tompkins Square Park Playground</td>\n    </tr>\n    <tr>\n      <th>4</th>\n      <td>1.5</td>\n      <td>1.0</td>\n      <td>Hot Mini Cakes</td>\n    </tr>\n    <tr>\n      <th>5</th>\n      <td>3.5</td>\n      <td>3.5</td>\n      <td>Scuderia</td>\n    </tr>\n    <tr>\n      <th>6</th>\n      <td>5.0</td>\n      <td>3.5</td>\n      <td>Peace &amp; Love</td>\n    </tr>\n    <tr>\n      <th>7</th>\n      <td>3.0</td>\n      <td>3.5</td>\n      <td>NYU Psychology Building</td>\n    </tr>\n    <tr>\n      <th>8</th>\n      <td>4.0</td>\n      <td>4.0</td>\n      <td>NYU Torch Club</td>\n    </tr>\n    <tr>\n      <th>9</th>\n      <td>1.0</td>\n      <td>4.0</td>\n      <td>Park Slope Ale House</td>\n    </tr>\n    <tr>\n      <th>10</th>\n      <td>4.0</td>\n      <td>4.0</td>\n      <td>Elle Girl</td>\n    </tr>\n    <tr>\n      <th>11</th>\n      <td>3.5</td>\n      <td>4.5</td>\n      <td>Mars 2112</td>\n    </tr>\n  </tbody>\n</table>\n</div>"
     },
     "metadata": {},
     "execution_count": 91
    }
   ],
   "source": [
    "a = get_similar_locations(370,86309)\n",
    "a = a.loc[ : , ['rating_x_x','rating_x_y','spotname']]\n",
    "a"
   ]
  },
  {
   "cell_type": "code",
   "execution_count": 92,
   "metadata": {},
   "outputs": [],
   "source": [
    "def User_item_score(user,item):\n",
    "    a = sim_user_30_m[sim_user_30_m.index==user].values\n",
    "    b = a.squeeze().tolist()\n",
    "    c = final_location.loc[:,item]\n",
    "    d = c[c.index.isin(b)]\n",
    "    f = d[d.notnull()]\n",
    "    avg_user = Mean.loc[Mean['userId'] == user,'rating'].values[0]\n",
    "    index = f.index.values.squeeze().tolist()\n",
    "    corr = similarity_with_movie.loc[user,index]\n",
    "    fin = pd.concat([f, corr], axis=1)\n",
    "    fin.columns = ['adg_score','correlation']\n",
    "    fin['score']=fin.apply(lambda x:x['adg_score'] * x['correlation'],axis=1)\n",
    "    nume = fin['score'].sum()\n",
    "    deno = fin['correlation'].sum()\n",
    "    final_score = avg_user + (nume/deno)\n",
    "    return final_score    "
   ]
  },
  {
   "cell_type": "code",
   "execution_count": 93,
   "metadata": {},
   "outputs": [
    {
     "output_type": "stream",
     "name": "stdout",
     "text": "score (u,i) is 4.064080591401218\n"
    }
   ],
   "source": [
    "score = User_item_score(320,2498)\n",
    "print(\"score (u,i) is\",score)"
   ]
  },
  {
   "cell_type": "code",
   "execution_count": 94,
   "metadata": {},
   "outputs": [],
   "source": [
    "Rating_avg = Rating_avg.astype({\"spotid\": str})\n",
    "Location_user = Rating_avg.groupby(by = 'userId')['spotid'].apply(lambda x:','.join(x))"
   ]
  },
  {
   "cell_type": "code",
   "execution_count": 95,
   "metadata": {},
   "outputs": [],
   "source": [
    "def User_item_score1(user):\n",
    "    Locations_seen_by_user = check.columns[check[check.index==user].notna().any()].tolist()\n",
    "    a = sim_user_30_m[sim_user_30_m.index==user].values\n",
    "    b = a.squeeze().tolist()\n",
    "    d = Location_user[Location_user.index.isin(b)]\n",
    "    l = ','.join(d.values)\n",
    "    Locations_seen_by_similar_users = l.split(',')\n",
    "    Locations_under_consideration = list(set(Locations_seen_by_similar_users)-set(list(map(str, Locations_seen_by_user))))\n",
    "    Locations_under_consideration = list(map(int, Locations_under_consideration))\n",
    "    score = []\n",
    "    for item in Locations_under_consideration:\n",
    "        c = final_location.loc[:,item]\n",
    "        d = c[c.index.isin(b)]\n",
    "        f = d[d.notnull()]\n",
    "        avg_user = Mean.loc[Mean['userId'] == user,'rating'].values[0]\n",
    "        index = f.index.values.squeeze().tolist()\n",
    "        corr = similarity_with_movie.loc[user,index]\n",
    "        fin = pd.concat([f, corr], axis=1)\n",
    "        fin.columns = ['adg_score','correlation']\n",
    "        fin['score']=fin.apply(lambda x:x['adg_score'] * x['correlation'],axis=1)\n",
    "        nume = fin['score'].sum()\n",
    "        deno = fin['correlation'].sum()\n",
    "        final_score = avg_user + (nume/deno)\n",
    "        score.append(final_score)\n",
    "    data = pd.DataFrame({'spotid':Locations_under_consideration,'score':score})\n",
    "    top_30_recommendation = data.sort_values(by='score',ascending=False).head(30)\n",
    "    Location_Name = top_30_recommendation.merge(nyc_events_clean, how='inner', on='spotid')\n",
    "    Location_Names = Location_Name.spotname.values.tolist()\n",
    "    return Location_Names"
   ]
  },
  {
   "cell_type": "code",
   "execution_count": 106,
   "metadata": {},
   "outputs": [
    {
     "output_type": "stream",
     "name": "stdout",
     "text": "Traffic\nThe Park\nMinetta Tavern\nRepublic\nGreen-Wood Cemetery\nThe Riviera Cafe\nBattery Park Playground\nStarbucks Coffee\nThe Grey Dog's Coffee\nVenda\nSilver Center\nHoboken Terminal\nNew Victory Theater\nGreat Lakes\nAMC Empire 25\nCanal Room\nPlanet Hollywood New York\n64 Morton\nQuartino\nCafé Grumpy\nBlue Man Group, Astor Place\nRosetta\nWhole Foods Market (Columbus Circle)\nApollo Theater\nRivergate Veterinary\n74th Street Generating Station\nWeather Up\nMyers Of Keswick\nJohny's\nDusk\n"
    }
   ],
   "source": [
    "\n",
    "#user = int(input(\"Enter the user id to whom you want to recommend : \"))\n",
    "predicted_locs = User_item_score1(320)  \n",
    "#print(\"The Recommendations for User Id : \"+user)\n",
    "for i in predicted_locs:\n",
    "    print(i)\n"
   ]
  },
  {
   "cell_type": "code",
   "execution_count": 107,
   "metadata": {},
   "outputs": [
    {
     "output_type": "execute_result",
     "data": {
      "text/plain": "   spotid                 spotname\n0    1848                  Traffic\n1     435                 The Park\n2     632           Minetta Tavern\n3     591                 Republic\n4     958      Green-Wood Cemetery\n5     451         The Riviera Cafe\n6     175  Battery Park Playground\n7    3446         Starbucks Coffee\n8     426    The Grey Dog's Coffee\n9    1932                    Venda\n10    599            Silver Center\n11    636         Hoboken Terminal\n12    644      New Victory Theater\n13    582              Great Lakes\n14    642            AMC Empire 25",
      "text/html": "<div>\n<style scoped>\n    .dataframe tbody tr th:only-of-type {\n        vertical-align: middle;\n    }\n\n    .dataframe tbody tr th {\n        vertical-align: top;\n    }\n\n    .dataframe thead th {\n        text-align: right;\n    }\n</style>\n<table border=\"1\" class=\"dataframe\">\n  <thead>\n    <tr style=\"text-align: right;\">\n      <th></th>\n      <th>spotid</th>\n      <th>spotname</th>\n    </tr>\n  </thead>\n  <tbody>\n    <tr>\n      <th>0</th>\n      <td>1848</td>\n      <td>Traffic</td>\n    </tr>\n    <tr>\n      <th>1</th>\n      <td>435</td>\n      <td>The Park</td>\n    </tr>\n    <tr>\n      <th>2</th>\n      <td>632</td>\n      <td>Minetta Tavern</td>\n    </tr>\n    <tr>\n      <th>3</th>\n      <td>591</td>\n      <td>Republic</td>\n    </tr>\n    <tr>\n      <th>4</th>\n      <td>958</td>\n      <td>Green-Wood Cemetery</td>\n    </tr>\n    <tr>\n      <th>5</th>\n      <td>451</td>\n      <td>The Riviera Cafe</td>\n    </tr>\n    <tr>\n      <th>6</th>\n      <td>175</td>\n      <td>Battery Park Playground</td>\n    </tr>\n    <tr>\n      <th>7</th>\n      <td>3446</td>\n      <td>Starbucks Coffee</td>\n    </tr>\n    <tr>\n      <th>8</th>\n      <td>426</td>\n      <td>The Grey Dog's Coffee</td>\n    </tr>\n    <tr>\n      <th>9</th>\n      <td>1932</td>\n      <td>Venda</td>\n    </tr>\n    <tr>\n      <th>10</th>\n      <td>599</td>\n      <td>Silver Center</td>\n    </tr>\n    <tr>\n      <th>11</th>\n      <td>636</td>\n      <td>Hoboken Terminal</td>\n    </tr>\n    <tr>\n      <th>12</th>\n      <td>644</td>\n      <td>New Victory Theater</td>\n    </tr>\n    <tr>\n      <th>13</th>\n      <td>582</td>\n      <td>Great Lakes</td>\n    </tr>\n    <tr>\n      <th>14</th>\n      <td>642</td>\n      <td>AMC Empire 25</td>\n    </tr>\n  </tbody>\n</table>\n</div>"
     },
     "metadata": {},
     "execution_count": 107
    }
   ],
   "source": [
    "collabDf = pd.DataFrame(columns=['spotid', 'spotname'])\n",
    "\n",
    "for spotname in predicted_locs:\n",
    "    spotid=nyc_events[nyc_events['spotname']==spotname]['spotid'].iloc[0]\n",
    "    collabDf = collabDf.append({'spotid': spotid , 'spotname': spotname}, ignore_index=True)\n",
    "\n",
    "# saving the dataframe \n",
    "collabDf.to_csv('..\\\\dataframes\\\\collabDf.csv') \n",
    "\n",
    "collabDf[:15]"
   ]
  },
  {
   "cell_type": "code",
   "execution_count": null,
   "metadata": {},
   "outputs": [],
   "source": []
  }
 ],
 "metadata": {
  "language_info": {
   "codemirror_mode": {
    "name": "ipython",
    "version": 3
   },
   "file_extension": ".py",
   "mimetype": "text/x-python",
   "name": "python",
   "nbconvert_exporter": "python",
   "pygments_lexer": "ipython3",
   "version": "3.8.1-final"
  },
  "orig_nbformat": 2,
  "kernelspec": {
   "name": "python38164bitenvvenv7fe0a444ed0345cb8e856da8ca87124d",
   "display_name": "Python 3.8.1 64-bit ('env': venv)"
  }
 },
 "nbformat": 4,
 "nbformat_minor": 2
}