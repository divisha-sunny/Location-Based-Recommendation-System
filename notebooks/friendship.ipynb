{
 "cells": [
  {
   "cell_type": "code",
   "execution_count": 2,
   "metadata": {},
   "outputs": [],
   "source": [
    "import numpy as np\n",
    "import pandas as pd\n",
    "import matplotlib.pyplot as plt"
   ]
  },
  {
   "cell_type": "code",
   "execution_count": 3,
   "metadata": {},
   "outputs": [
    {
     "output_type": "execute_result",
     "data": {
      "text/plain": "   userid  friendship_links\n0       0                 1\n1       0                 2\n2       0                 3\n3       0                 4\n4       0                 5",
      "text/html": "<div>\n<style scoped>\n    .dataframe tbody tr th:only-of-type {\n        vertical-align: middle;\n    }\n\n    .dataframe tbody tr th {\n        vertical-align: top;\n    }\n\n    .dataframe thead th {\n        text-align: right;\n    }\n</style>\n<table border=\"1\" class=\"dataframe\">\n  <thead>\n    <tr style=\"text-align: right;\">\n      <th></th>\n      <th>userid</th>\n      <th>friendship_links</th>\n    </tr>\n  </thead>\n  <tbody>\n    <tr>\n      <th>0</th>\n      <td>0</td>\n      <td>1</td>\n    </tr>\n    <tr>\n      <th>1</th>\n      <td>0</td>\n      <td>2</td>\n    </tr>\n    <tr>\n      <th>2</th>\n      <td>0</td>\n      <td>3</td>\n    </tr>\n    <tr>\n      <th>3</th>\n      <td>0</td>\n      <td>4</td>\n    </tr>\n    <tr>\n      <th>4</th>\n      <td>0</td>\n      <td>5</td>\n    </tr>\n  </tbody>\n</table>\n</div>"
     },
     "metadata": {},
     "execution_count": 3
    }
   ],
   "source": [
    "df_gowalla_edges = pd.read_csv('..\\data\\loc-gowalla_edges.txt\\Gowalla_edges.txt', sep='\\t', header=None)\n",
    "df_gowalla_edges.columns = ['userid','friendship_links']\n",
    "df_gowalla_edges.head()"
   ]
  },
  {
   "cell_type": "code",
   "execution_count": 4,
   "metadata": {},
   "outputs": [
    {
     "output_type": "execute_result",
     "data": {
      "text/plain": "   userid             timestamp   latitude  longitude  spotid  \\\n0       0  2010-10-12T00:21:28Z  40.643885 -73.782806   23261   \n1       0  2010-10-07T15:27:40Z  40.643885 -73.782806   23261   \n2       5  2010-08-16T03:47:20Z  40.643885 -73.782806   23261   \n3       8  2010-10-06T20:23:14Z  40.643885 -73.782806   23261   \n4      15  2010-10-13T04:10:36Z  40.643885 -73.782806   23261   \n\n                            spotname  \n0  JFK John F. Kennedy International  \n1  JFK John F. Kennedy International  \n2  JFK John F. Kennedy International  \n3  JFK John F. Kennedy International  \n4  JFK John F. Kennedy International  ",
      "text/html": "<div>\n<style scoped>\n    .dataframe tbody tr th:only-of-type {\n        vertical-align: middle;\n    }\n\n    .dataframe tbody tr th {\n        vertical-align: top;\n    }\n\n    .dataframe thead th {\n        text-align: right;\n    }\n</style>\n<table border=\"1\" class=\"dataframe\">\n  <thead>\n    <tr style=\"text-align: right;\">\n      <th></th>\n      <th>userid</th>\n      <th>timestamp</th>\n      <th>latitude</th>\n      <th>longitude</th>\n      <th>spotid</th>\n      <th>spotname</th>\n    </tr>\n  </thead>\n  <tbody>\n    <tr>\n      <th>0</th>\n      <td>0</td>\n      <td>2010-10-12T00:21:28Z</td>\n      <td>40.643885</td>\n      <td>-73.782806</td>\n      <td>23261</td>\n      <td>JFK John F. Kennedy International</td>\n    </tr>\n    <tr>\n      <th>1</th>\n      <td>0</td>\n      <td>2010-10-07T15:27:40Z</td>\n      <td>40.643885</td>\n      <td>-73.782806</td>\n      <td>23261</td>\n      <td>JFK John F. Kennedy International</td>\n    </tr>\n    <tr>\n      <th>2</th>\n      <td>5</td>\n      <td>2010-08-16T03:47:20Z</td>\n      <td>40.643885</td>\n      <td>-73.782806</td>\n      <td>23261</td>\n      <td>JFK John F. Kennedy International</td>\n    </tr>\n    <tr>\n      <th>3</th>\n      <td>8</td>\n      <td>2010-10-06T20:23:14Z</td>\n      <td>40.643885</td>\n      <td>-73.782806</td>\n      <td>23261</td>\n      <td>JFK John F. Kennedy International</td>\n    </tr>\n    <tr>\n      <th>4</th>\n      <td>15</td>\n      <td>2010-10-13T04:10:36Z</td>\n      <td>40.643885</td>\n      <td>-73.782806</td>\n      <td>23261</td>\n      <td>JFK John F. Kennedy International</td>\n    </tr>\n  </tbody>\n</table>\n</div>"
     },
     "metadata": {},
     "execution_count": 4
    }
   ],
   "source": [
    "df_gowalla = pd.read_csv('..\\data\\loc-gowalla_totalCheckins.txt\\Gowalla_totalCheckins.txt', sep='\\t', header=None)\n",
    "df_gowalla.columns = ['userid','timestamp','latitude','longitude','spotid']\n",
    "\n",
    "lon_min, lat_min, lon_max, lat_max = -74.2589, 40.4774, -73.7004, 40.9176\n",
    "nyc_events = df_gowalla[(df_gowalla['longitude']>lon_min) & \n",
    "           (df_gowalla['longitude']<lon_max) & \n",
    "           (df_gowalla['latitude']>lat_min) & \n",
    "           (df_gowalla['latitude']<lat_max)]\n",
    "venues = pd.read_csv('..\\data\\spots.txt\\spots.txt', sep='\\t', header=0)\n",
    "nyc_events = pd.DataFrame.merge(nyc_events, venues[['spotid','spotname']], on='spotid', how=\"inner\")\n",
    "nyc_events.head()"
   ]
  },
  {
   "cell_type": "code",
   "execution_count": 5,
   "metadata": {
    "tags": [
     "outputPrepend",
     "outputPrepend"
    ]
   },
   "outputs": [
    {
     "output_type": "execute_result",
     "data": {
      "text/plain": "     spotid                           spotname count\n0     23261  JFK John F. Kennedy International    49\n1     16907                        Shake Shack    14\n2     12973                 Flatiron Building      5\n3    341255        Emilio's Ballato Restaurant     1\n4    260957                      The Half Pint     4\n5   1933724          New York University (NYU)     4\n6    105068                             Market     2\n7     34817                          Westville     1\n8     27836                 The Chelsea Market     5\n9     15079                      The High Line     9\n10    22806          Magnolia Bakery, Downtown     1\n11  1365909      Van Leeuwen Artisan Ice Cream     1\n12    11844                       Times Square    21\n13    11742            New York Stock Exchange     4\n14    19822     Federal Hall National Memorial     5",
      "text/html": "<div>\n<style scoped>\n    .dataframe tbody tr th:only-of-type {\n        vertical-align: middle;\n    }\n\n    .dataframe tbody tr th {\n        vertical-align: top;\n    }\n\n    .dataframe thead th {\n        text-align: right;\n    }\n</style>\n<table border=\"1\" class=\"dataframe\">\n  <thead>\n    <tr style=\"text-align: right;\">\n      <th></th>\n      <th>spotid</th>\n      <th>spotname</th>\n      <th>count</th>\n    </tr>\n  </thead>\n  <tbody>\n    <tr>\n      <th>0</th>\n      <td>23261</td>\n      <td>JFK John F. Kennedy International</td>\n      <td>49</td>\n    </tr>\n    <tr>\n      <th>1</th>\n      <td>16907</td>\n      <td>Shake Shack</td>\n      <td>14</td>\n    </tr>\n    <tr>\n      <th>2</th>\n      <td>12973</td>\n      <td>Flatiron Building</td>\n      <td>5</td>\n    </tr>\n    <tr>\n      <th>3</th>\n      <td>341255</td>\n      <td>Emilio's Ballato Restaurant</td>\n      <td>1</td>\n    </tr>\n    <tr>\n      <th>4</th>\n      <td>260957</td>\n      <td>The Half Pint</td>\n      <td>4</td>\n    </tr>\n    <tr>\n      <th>5</th>\n      <td>1933724</td>\n      <td>New York University (NYU)</td>\n      <td>4</td>\n    </tr>\n    <tr>\n      <th>6</th>\n      <td>105068</td>\n      <td>Market</td>\n      <td>2</td>\n    </tr>\n    <tr>\n      <th>7</th>\n      <td>34817</td>\n      <td>Westville</td>\n      <td>1</td>\n    </tr>\n    <tr>\n      <th>8</th>\n      <td>27836</td>\n      <td>The Chelsea Market</td>\n      <td>5</td>\n    </tr>\n    <tr>\n      <th>9</th>\n      <td>15079</td>\n      <td>The High Line</td>\n      <td>9</td>\n    </tr>\n    <tr>\n      <th>10</th>\n      <td>22806</td>\n      <td>Magnolia Bakery, Downtown</td>\n      <td>1</td>\n    </tr>\n    <tr>\n      <th>11</th>\n      <td>1365909</td>\n      <td>Van Leeuwen Artisan Ice Cream</td>\n      <td>1</td>\n    </tr>\n    <tr>\n      <th>12</th>\n      <td>11844</td>\n      <td>Times Square</td>\n      <td>21</td>\n    </tr>\n    <tr>\n      <th>13</th>\n      <td>11742</td>\n      <td>New York Stock Exchange</td>\n      <td>4</td>\n    </tr>\n    <tr>\n      <th>14</th>\n      <td>19822</td>\n      <td>Federal Hall National Memorial</td>\n      <td>5</td>\n    </tr>\n  </tbody>\n</table>\n</div>"
     },
     "metadata": {},
     "execution_count": 5
    }
   ],
   "source": [
    "import operator\n",
    "locFreq = {}\n",
    "\n",
    "for friendId in df_gowalla_edges[df_gowalla_edges['userid']==5]['friendship_links']:\n",
    "    friendLocs = nyc_events[nyc_events['userid']==friendId] \n",
    "    if not (friendLocs.empty): \n",
    "        for spotname in friendLocs['spotname']:\n",
    "            if(locFreq.get(spotname) == None):\n",
    "                locFreq[spotname] = 1\n",
    "            else: \n",
    "                locFreq[spotname] = locFreq[spotname] + 1\n",
    "\n",
    "# locFreq = sorted(locFreq.items(), key=operator.itemgetter(1), reverse=True)[:5] \n",
    "\n",
    "locFreqDf = pd.DataFrame(columns=['spotid', 'spotname', 'count'])\n",
    "\n",
    "for key, value in locFreq.items():\n",
    "    spotid=nyc_events[nyc_events['spotname']==key]['spotid'].iloc[0]\n",
    "    locFreqDf = locFreqDf.append({'spotid': spotid , 'spotname': key, 'count': value}, ignore_index=True)\n",
    "\n",
    "locFreqDf[:15]"
   ]
  },
  {
   "cell_type": "code",
   "execution_count": null,
   "metadata": {},
   "outputs": [],
   "source": []
  }
 ],
 "metadata": {
  "language_info": {
   "codemirror_mode": {
    "name": "ipython",
    "version": 3
   },
   "file_extension": ".py",
   "mimetype": "text/x-python",
   "name": "python",
   "nbconvert_exporter": "python",
   "pygments_lexer": "ipython3",
   "version": "3.8.1-final"
  },
  "orig_nbformat": 2,
  "kernelspec": {
   "name": "python38164bitenvvenv7fe0a444ed0345cb8e856da8ca87124d",
   "display_name": "Python 3.8.1 64-bit ('env': venv)"
  }
 },
 "nbformat": 4,
 "nbformat_minor": 2
}