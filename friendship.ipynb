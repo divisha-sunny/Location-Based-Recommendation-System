{
 "cells": [
  {
   "cell_type": "code",
   "execution_count": 1,
   "metadata": {},
   "outputs": [],
   "source": [
    "import numpy as np\n",
    "import pandas as pd\n",
    "import matplotlib.pyplot as plt"
   ]
  },
  {
   "cell_type": "code",
   "execution_count": 2,
   "metadata": {},
   "outputs": [
    {
     "output_type": "execute_result",
     "data": {
      "text/plain": "         userid  friendship_links\n0             0                 1\n1             0                 2\n2             0                 3\n3             0                 4\n4             0                 5\n...         ...               ...\n1900649  196586            196539\n1900650  196587            196540\n1900651  196588            196540\n1900652  196589            196547\n1900653  196590            196561\n\n[1900654 rows x 2 columns]",
      "text/html": "<div>\n<style scoped>\n    .dataframe tbody tr th:only-of-type {\n        vertical-align: middle;\n    }\n\n    .dataframe tbody tr th {\n        vertical-align: top;\n    }\n\n    .dataframe thead th {\n        text-align: right;\n    }\n</style>\n<table border=\"1\" class=\"dataframe\">\n  <thead>\n    <tr style=\"text-align: right;\">\n      <th></th>\n      <th>userid</th>\n      <th>friendship_links</th>\n    </tr>\n  </thead>\n  <tbody>\n    <tr>\n      <th>0</th>\n      <td>0</td>\n      <td>1</td>\n    </tr>\n    <tr>\n      <th>1</th>\n      <td>0</td>\n      <td>2</td>\n    </tr>\n    <tr>\n      <th>2</th>\n      <td>0</td>\n      <td>3</td>\n    </tr>\n    <tr>\n      <th>3</th>\n      <td>0</td>\n      <td>4</td>\n    </tr>\n    <tr>\n      <th>4</th>\n      <td>0</td>\n      <td>5</td>\n    </tr>\n    <tr>\n      <th>...</th>\n      <td>...</td>\n      <td>...</td>\n    </tr>\n    <tr>\n      <th>1900649</th>\n      <td>196586</td>\n      <td>196539</td>\n    </tr>\n    <tr>\n      <th>1900650</th>\n      <td>196587</td>\n      <td>196540</td>\n    </tr>\n    <tr>\n      <th>1900651</th>\n      <td>196588</td>\n      <td>196540</td>\n    </tr>\n    <tr>\n      <th>1900652</th>\n      <td>196589</td>\n      <td>196547</td>\n    </tr>\n    <tr>\n      <th>1900653</th>\n      <td>196590</td>\n      <td>196561</td>\n    </tr>\n  </tbody>\n</table>\n<p>1900654 rows × 2 columns</p>\n</div>"
     },
     "metadata": {},
     "execution_count": 2
    }
   ],
   "source": [
    "df_gowalla_edges = pd.read_csv('data\\loc-gowalla_edges.txt\\Gowalla_edges.txt', sep='\\t', header=None)\n",
    "df_gowalla_edges.columns = ['userid','friendship_links']\n",
    "df_gowalla_edges"
   ]
  },
  {
   "cell_type": "code",
   "execution_count": 3,
   "metadata": {},
   "outputs": [
    {
     "output_type": "execute_result",
     "data": {
      "text/plain": "   userid             timestamp   latitude  longitude  spotid  \\\n0       0  2010-10-12T00:21:28Z  40.643885 -73.782806   23261   \n1       0  2010-10-07T15:27:40Z  40.643885 -73.782806   23261   \n2       5  2010-08-16T03:47:20Z  40.643885 -73.782806   23261   \n3       8  2010-10-06T20:23:14Z  40.643885 -73.782806   23261   \n4      15  2010-10-13T04:10:36Z  40.643885 -73.782806   23261   \n\n                            spotname  \n0  JFK John F. Kennedy International  \n1  JFK John F. Kennedy International  \n2  JFK John F. Kennedy International  \n3  JFK John F. Kennedy International  \n4  JFK John F. Kennedy International  ",
      "text/html": "<div>\n<style scoped>\n    .dataframe tbody tr th:only-of-type {\n        vertical-align: middle;\n    }\n\n    .dataframe tbody tr th {\n        vertical-align: top;\n    }\n\n    .dataframe thead th {\n        text-align: right;\n    }\n</style>\n<table border=\"1\" class=\"dataframe\">\n  <thead>\n    <tr style=\"text-align: right;\">\n      <th></th>\n      <th>userid</th>\n      <th>timestamp</th>\n      <th>latitude</th>\n      <th>longitude</th>\n      <th>spotid</th>\n      <th>spotname</th>\n    </tr>\n  </thead>\n  <tbody>\n    <tr>\n      <th>0</th>\n      <td>0</td>\n      <td>2010-10-12T00:21:28Z</td>\n      <td>40.643885</td>\n      <td>-73.782806</td>\n      <td>23261</td>\n      <td>JFK John F. Kennedy International</td>\n    </tr>\n    <tr>\n      <th>1</th>\n      <td>0</td>\n      <td>2010-10-07T15:27:40Z</td>\n      <td>40.643885</td>\n      <td>-73.782806</td>\n      <td>23261</td>\n      <td>JFK John F. Kennedy International</td>\n    </tr>\n    <tr>\n      <th>2</th>\n      <td>5</td>\n      <td>2010-08-16T03:47:20Z</td>\n      <td>40.643885</td>\n      <td>-73.782806</td>\n      <td>23261</td>\n      <td>JFK John F. Kennedy International</td>\n    </tr>\n    <tr>\n      <th>3</th>\n      <td>8</td>\n      <td>2010-10-06T20:23:14Z</td>\n      <td>40.643885</td>\n      <td>-73.782806</td>\n      <td>23261</td>\n      <td>JFK John F. Kennedy International</td>\n    </tr>\n    <tr>\n      <th>4</th>\n      <td>15</td>\n      <td>2010-10-13T04:10:36Z</td>\n      <td>40.643885</td>\n      <td>-73.782806</td>\n      <td>23261</td>\n      <td>JFK John F. Kennedy International</td>\n    </tr>\n  </tbody>\n</table>\n</div>"
     },
     "metadata": {},
     "execution_count": 3
    }
   ],
   "source": [
    "df_gowalla = pd.read_csv('data\\loc-gowalla_totalCheckins.txt\\Gowalla_totalCheckins.txt', sep='\\t', header=None)\n",
    "df_gowalla.columns = ['userid','timestamp','latitude','longitude','spotid']\n",
    "\n",
    "lon_min, lat_min, lon_max, lat_max = -74.2589, 40.4774, -73.7004, 40.9176\n",
    "nyc_events = df_gowalla[(df_gowalla['longitude']>lon_min) & \n",
    "           (df_gowalla['longitude']<lon_max) & \n",
    "           (df_gowalla['latitude']>lat_min) & \n",
    "           (df_gowalla['latitude']<lat_max)]\n",
    "venues = pd.read_csv('data\\spots.txt\\spots.txt', sep='\\t', header=0)\n",
    "nyc_events = pd.DataFrame.merge(nyc_events, venues[['spotid','spotname']], on='spotid', how=\"inner\")\n",
    "nyc_events.head()"
   ]
  },
  {
   "cell_type": "code",
   "execution_count": 7,
   "metadata": {
    "tags": [
     "outputPrepend"
    ]
   },
   "outputs": [
    {
     "output_type": "execute_result",
     "data": {
      "text/plain": "      spotid                           spotname count\n188    13022             Grand Central Terminal    53\n0      23261  JFK John F. Kennedy International    49\n23     12505              LGA LaGuardia Airport    47\n1714  190550                 iCrossing New York    37\n34     12571                          Starbucks    36\n1313   75442                Hells Kitchen Pizza    35\n247   223674                   Starbucks Coffee    32\n1314  242395                     Hell's Kitchen    21\n12     11844                       Times Square    21\n55     17417                     JFK Terminal 5    18\n1      16907                        Shake Shack    14\n86     21875                       Think Coffee    13\n21     12313              Empire State Building    12\n249    24963   EWR Newark Liberty International    11\n1384   19812                Newark Penn Station    10",
      "text/html": "<div>\n<style scoped>\n    .dataframe tbody tr th:only-of-type {\n        vertical-align: middle;\n    }\n\n    .dataframe tbody tr th {\n        vertical-align: top;\n    }\n\n    .dataframe thead th {\n        text-align: right;\n    }\n</style>\n<table border=\"1\" class=\"dataframe\">\n  <thead>\n    <tr style=\"text-align: right;\">\n      <th></th>\n      <th>spotid</th>\n      <th>spotname</th>\n      <th>count</th>\n    </tr>\n  </thead>\n  <tbody>\n    <tr>\n      <th>188</th>\n      <td>13022</td>\n      <td>Grand Central Terminal</td>\n      <td>53</td>\n    </tr>\n    <tr>\n      <th>0</th>\n      <td>23261</td>\n      <td>JFK John F. Kennedy International</td>\n      <td>49</td>\n    </tr>\n    <tr>\n      <th>23</th>\n      <td>12505</td>\n      <td>LGA LaGuardia Airport</td>\n      <td>47</td>\n    </tr>\n    <tr>\n      <th>1714</th>\n      <td>190550</td>\n      <td>iCrossing New York</td>\n      <td>37</td>\n    </tr>\n    <tr>\n      <th>34</th>\n      <td>12571</td>\n      <td>Starbucks</td>\n      <td>36</td>\n    </tr>\n    <tr>\n      <th>1313</th>\n      <td>75442</td>\n      <td>Hells Kitchen Pizza</td>\n      <td>35</td>\n    </tr>\n    <tr>\n      <th>247</th>\n      <td>223674</td>\n      <td>Starbucks Coffee</td>\n      <td>32</td>\n    </tr>\n    <tr>\n      <th>1314</th>\n      <td>242395</td>\n      <td>Hell's Kitchen</td>\n      <td>21</td>\n    </tr>\n    <tr>\n      <th>12</th>\n      <td>11844</td>\n      <td>Times Square</td>\n      <td>21</td>\n    </tr>\n    <tr>\n      <th>55</th>\n      <td>17417</td>\n      <td>JFK Terminal 5</td>\n      <td>18</td>\n    </tr>\n    <tr>\n      <th>1</th>\n      <td>16907</td>\n      <td>Shake Shack</td>\n      <td>14</td>\n    </tr>\n    <tr>\n      <th>86</th>\n      <td>21875</td>\n      <td>Think Coffee</td>\n      <td>13</td>\n    </tr>\n    <tr>\n      <th>21</th>\n      <td>12313</td>\n      <td>Empire State Building</td>\n      <td>12</td>\n    </tr>\n    <tr>\n      <th>249</th>\n      <td>24963</td>\n      <td>EWR Newark Liberty International</td>\n      <td>11</td>\n    </tr>\n    <tr>\n      <th>1384</th>\n      <td>19812</td>\n      <td>Newark Penn Station</td>\n      <td>10</td>\n    </tr>\n  </tbody>\n</table>\n</div>"
     },
     "metadata": {},
     "execution_count": 7
    }
   ],
   "source": [
    "import operator\n",
    "locFreq = {}\n",
    "\n",
    "for friendId in df_gowalla_edges[df_gowalla_edges['userid']==5]['friendship_links']:\n",
    "    friendLocs = nyc_events[nyc_events['userid']==friendId] \n",
    "    if not (friendLocs.empty): \n",
    "        for spotname in friendLocs['spotname']:\n",
    "            if(locFreq.get(spotname) == None):\n",
    "                locFreq[spotname] = 1\n",
    "            else: \n",
    "                locFreq[spotname] = locFreq[spotname] + 1\n",
    "\n",
    "# locFreq = sorted(locFreq.items(), key=operator.itemgetter(1), reverse=True)[:5] \n",
    "\n",
    "locFreqDf = pd.DataFrame(columns=['spotid', 'spotname', 'count'])\n",
    "\n",
    "for key, value in locFreq.items():\n",
    "    spotid=nyc_events[nyc_events['spotname']==key]['spotid'].iloc[0]\n",
    "    locFreqDf = locFreqDf.append({'spotid': spotid , 'spotname': key, 'count': value}, ignore_index=True)\n",
    "\n",
    "locFreqDf = locFreqDf.sort_values(by = 'count', ascending = False)\n",
    "locFreqDf[:15]"
   ]
  }
 ],
 "metadata": {
  "language_info": {
   "codemirror_mode": {
    "name": "ipython",
    "version": 3
   },
   "file_extension": ".py",
   "mimetype": "text/x-python",
   "name": "python",
   "nbconvert_exporter": "python",
   "pygments_lexer": "ipython3",
   "version": "3.8.1-final"
  },
  "orig_nbformat": 2,
  "kernelspec": {
   "name": "python38164bitenvvenv7fe0a444ed0345cb8e856da8ca87124d",
   "display_name": "Python 3.8.1 64-bit ('env': venv)"
  }
 },
 "nbformat": 4,
 "nbformat_minor": 2
}